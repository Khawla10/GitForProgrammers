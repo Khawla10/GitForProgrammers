{
  "nbformat": 4,
  "nbformat_minor": 0,
  "metadata": {
    "colab": {
      "provenance": [],
      "gpuType": "T4",
      "include_colab_link": true
    },
    "kernelspec": {
      "name": "python3",
      "display_name": "Python 3"
    },
    "language_info": {
      "name": "python"
    },
    "accelerator": "GPU",
    "gpuClass": "standard"
  },
  "cells": [
    {
      "cell_type": "markdown",
      "metadata": {
        "id": "view-in-github",
        "colab_type": "text"
      },
      "source": [
        "<a href=\"https://colab.research.google.com/github/Khawla10/GitForProgrammers/blob/main/Copy_of_JIT().ipynb\" target=\"_parent\"><img src=\"https://colab.research.google.com/assets/colab-badge.svg\" alt=\"Open In Colab\"/></a>"
      ]
    },
    {
      "cell_type": "markdown",
      "source": [
        "##JIT \"Just In Time\"\n",
        "The below code demonstrates the jit function's optimization through fusion."
      ],
      "metadata": {
        "id": "XZWbJwTtBDNg"
      }
    },
    {
      "cell_type": "code",
      "source": [
        "import jax\n",
        "import jax.numpy as jnp\n",
        "import numpy as np"
      ],
      "metadata": {
        "id": "cArtI1T6CiFd"
      },
      "execution_count": null,
      "outputs": []
    },
    {
      "cell_type": "code",
      "source": [
        "from jax import jit\n",
        "\n",
        "x = np.random.rand(1000,1000)\n",
        "y = jnp.array(x)\n",
        "\n",
        "def f(x):\n",
        "  for _ in range(10):\n",
        "      x = 0.5*x + 0.1* jnp.sin(x)\n",
        "  return x\n",
        "\n",
        "g = jit(f)\n",
        "\n",
        "\n",
        "\n",
        "%timeit -n 5 -r 5 f(y).block_until_ready()"
      ],
      "metadata": {
        "id": "9cKf6oLsCSBQ",
        "outputId": "22689ca5-cab9-4365-9ddb-9c26589f2285",
        "colab": {
          "base_uri": "https://localhost:8080/"
        }
      },
      "execution_count": null,
      "outputs": [
        {
          "output_type": "stream",
          "name": "stdout",
          "text": [
            "The slowest run took 201.71 times longer than the fastest. This could mean that an intermediate result is being cached.\n",
            "208 ms ± 406 ms per loop (mean ± std. dev. of 5 runs, 5 loops each)\n"
          ]
        }
      ]
    },
    {
      "cell_type": "code",
      "source": [
        "%timeit -n 5 -r 5 g(y).block_until_ready()"
      ],
      "metadata": {
        "id": "XY_0uT38CbjG",
        "outputId": "ab4a64f6-1a6e-4fc7-db19-37518349b902",
        "colab": {
          "base_uri": "https://localhost:8080/"
        }
      },
      "execution_count": null,
      "outputs": [
        {
          "output_type": "stream",
          "name": "stdout",
          "text": [
            "The slowest run took 177.75 times longer than the fastest. This could mean that an intermediate result is being cached.\n",
            "9.44 ms ± 18.3 ms per loop (mean ± std. dev. of 5 runs, 5 loops each)\n"
          ]
        }
      ]
    },
    {
      "cell_type": "markdown",
      "source": [],
      "metadata": {
        "id": "EU7fVB7MDa2G"
      }
    },
    {
      "cell_type": "markdown",
      "source": [],
      "metadata": {
        "id": "oYP1fJJ-Datf"
      }
    },
    {
      "cell_type": "markdown",
      "source": [],
      "metadata": {
        "id": "RsD18CgDDaXj"
      }
    },
    {
      "cell_type": "markdown",
      "source": [],
      "metadata": {
        "id": "7UZ5DrpODaRm"
      }
    },
    {
      "cell_type": "markdown",
      "source": [],
      "metadata": {
        "id": "mP1i4IcDDaNx"
      }
    },
    {
      "cell_type": "code",
      "execution_count": null,
      "metadata": {
        "colab": {
          "base_uri": "https://localhost:8080/"
        },
        "id": "gsmcG5gwAy4u",
        "outputId": "9f3f3fe9-e8cc-4530-eee2-56bcb80f99ac"
      },
      "outputs": [
        {
          "output_type": "execute_result",
          "data": {
            "text/plain": [
              "Array([[1., 1., 1., ..., 1., 1., 1.],\n",
              "       [1., 1., 1., ..., 1., 1., 1.],\n",
              "       [1., 1., 1., ..., 1., 1., 1.],\n",
              "       ...,\n",
              "       [1., 1., 1., ..., 1., 1., 1.],\n",
              "       [1., 1., 1., ..., 1., 1., 1.],\n",
              "       [1., 1., 1., ..., 1., 1., 1.]], dtype=float32)"
            ]
          },
          "metadata": {},
          "execution_count": 1
        }
      ],
      "source": [
        "# imports\n",
        "from jax import jit\n",
        "import jax.numpy as jnp\n",
        "\n",
        "# define the cube function\n",
        "def cube(x):\n",
        "    return x * x * x\n",
        "\n",
        "# generate data\n",
        "x = jnp.ones((10000, 10000))\n",
        "\n",
        "# create the jit version of the cube function\n",
        "jit_cube = jit(cube)\n",
        "\n",
        "# apply the cube and jit_cube functions to the same data for spreed comoparion\n",
        "cube(x)\n",
        "jit_cube(x)"
      ]
    },
    {
      "cell_type": "code",
      "source": [],
      "metadata": {
        "id": "9DfLOr_qxTJW"
      },
      "execution_count": null,
      "outputs": []
    }
  ]
}