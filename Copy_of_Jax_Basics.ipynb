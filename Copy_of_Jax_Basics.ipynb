{
  "cells": [
    {
      "cell_type": "markdown",
      "metadata": {
        "id": "view-in-github",
        "colab_type": "text"
      },
      "source": [
        "<a href=\"https://colab.research.google.com/github/Khawla10/GitForProgrammers/blob/main/Copy_of_Jax_Basics.ipynb\" target=\"_parent\"><img src=\"https://colab.research.google.com/assets/colab-badge.svg\" alt=\"Open In Colab\"/></a>"
      ]
    },
    {
      "cell_type": "markdown",
      "metadata": {
        "id": "6_117sy0CGEU"
      },
      "source": [
        "# JAX As Accelerated NumPy\n"
      ]
    },
    {
      "cell_type": "markdown",
      "metadata": {
        "id": "CXjHL4L6ku3-"
      },
      "source": [
        "## Getting started with JAX numpy\n",
        "\n",
        "Fundamentally, JAX is a library that enables transformations of array-manipulating programs written with a NumPy-like API. \n",
        "\n",
        "Over the course of this series of guides, we will unpack exactly what that means. For now, you can think of JAX as *differentiable NumPy that runs on accelerators*.\n",
        "\n",
        "The code below shows how to import JAX and create a vector."
      ]
    },
    {
      "cell_type": "code",
      "execution_count": null,
      "metadata": {
        "id": "ZqUzvqF1B1TO",
        "outputId": "c42c9f49-4a0d-4597-9df0-5477c3850bf8",
        "colab": {
          "base_uri": "https://localhost:8080/"
        }
      },
      "outputs": [
        {
          "output_type": "stream",
          "name": "stdout",
          "text": [
            "[0 1 2 3 4 5 6 7 8 9]\n",
            "[0 1 2 3 4 5 6 7 8 9]\n"
          ]
        }
      ],
      "source": [
        "import jax\n",
        "import jax.numpy as jnp\n",
        "x = jnp.arange(10)\n",
        "print(x)"
      ]
    },
    {
      "cell_type": "markdown",
      "metadata": {
        "id": "rPBmlAxXlBAy"
      },
      "source": [
        "So far, everything is just like NumPy. A big appeal of JAX is that you don't need to learn a new API. Many common NumPy programs would run just as well in JAX if you substitute `np` for `jnp`. However, there are some important differences which we touch on at the end of this section.\n",
        "\n",
        "You can notice the first difference if you check the type of `x`. It is a variable of type `DeviceArray`, which is the way JAX represents arrays."
      ]
    },
    {
      "cell_type": "code",
      "execution_count": null,
      "metadata": {
        "id": "3fLtgPUAn7mi",
        "outputId": "8f89667c-e5c0-4c1e-ce59-d14e5d7af5ad",
        "colab": {
          "base_uri": "https://localhost:8080/"
        }
      },
      "outputs": [
        {
          "output_type": "execute_result",
          "data": {
            "text/plain": [
              "DeviceArray([0, 1, 2, 3, 4, 5, 6, 7, 8, 9], dtype=int32)"
            ]
          },
          "metadata": {},
          "execution_count": 22
        }
      ],
      "source": [
        "x"
      ]
    },
    {
      "cell_type": "markdown",
      "metadata": {
        "id": "Yx8VofzzoHFH"
      },
      "source": [
        "One useful feature of JAX is that the same code can be run on different backends -- CPU, GPU and TPU.\n",
        "\n",
        "We will now perform a dot product to demonstrate that it can be done in different devices without changing the code. We use `%timeit` to check the performance. \n",
        "\n",
        "(Technical detail: when a JAX function is called, the corresponding operation is dispatched to an accelerator to be computed asynchronously when possible. The returned array is therefore not necessarily 'filled in' as soon as the function returns. Thus, if we don't require the result immediately, the computation won't block Python execution. Therefore, unless we `block_until_ready`, we will only time the dispatch, not the actual computation. See [Asynchronous dispatch](https://jax.readthedocs.io/en/latest/async_dispatch.html#asynchronous-dispatch) in the JAX docs.)"
      ]
    },
    {
      "cell_type": "code",
      "execution_count": null,
      "metadata": {
        "id": "mRvjVxoqo-Bi",
        "outputId": "39bf5500-b23e-4f86-e608-b438fa9541cb",
        "colab": {
          "base_uri": "https://localhost:8080/"
        }
      },
      "outputs": [
        {
          "output_type": "stream",
          "name": "stdout",
          "text": [
            "10000000\n",
            "8.23 ms ± 82.8 µs per loop (mean ± std. dev. of 7 runs, 100 loops each)\n"
          ]
        }
      ],
      "source": [
        "long_vector = jnp.arange(int(1e7))\n",
        "print(len(long_vector))\n",
        "%timeit jnp.dot(long_vector, long_vector).block_until_ready()"
      ]
    },
    {
      "cell_type": "markdown",
      "metadata": {
        "id": "DKBB0zs-p-RC"
      },
      "source": [
        "**Tip**: Try running the code above twice, once without an accelerator, and once with a GPU runtime (while in Colab, click *Runtime* → *Change Runtime Type* and choose `GPU`). Notice how much faster it runs on a GPU."
      ]
    },
    {
      "cell_type": "markdown",
      "metadata": {
        "id": "PkCpI-v0uQQO"
      },
      "source": [
        "## JAX first transformation: `grad`\n",
        "\n",
        "A fundamental feature of JAX is that it allows you to transform functions.\n",
        "\n",
        "One of the most commonly used transformations is `jax.grad`, which takes a numerical function written in Python and returns you a new Python function that computes the gradient of the original function. \n",
        "\n",
        "To use it, let's first define a function that takes an array and returns the sum of squares."
      ]
    },
    {
      "cell_type": "code",
      "execution_count": null,
      "metadata": {
        "id": "LuaGUVRUvbzQ"
      },
      "outputs": [],
      "source": [
        "def sum_of_squares(x):\n",
        "  return jnp.sum(x**2)"
      ]
    },
    {
      "cell_type": "markdown",
      "metadata": {
        "id": "QAqloI1Wvtp2"
      },
      "source": [
        "Applying `jax.grad` to `sum_of_squares` will return a different function, namely the gradient of `sum_of_squares` with respect to its first parameter `x`. \n",
        "\n",
        "Then, you can use that function on an array to return the derivatives with respect to each element of the array."
      ]
    },
    {
      "cell_type": "code",
      "execution_count": null,
      "metadata": {
        "id": "dKeorwJfvpeI",
        "outputId": "266e349c-3414-4218-90bb-70c43204e454",
        "colab": {
          "base_uri": "https://localhost:8080/"
        }
      },
      "outputs": [
        {
          "output_type": "stream",
          "name": "stdout",
          "text": [
            "30.0\n",
            "[2. 4. 6. 8.]\n"
          ]
        }
      ],
      "source": [
        "sum_of_squares_dx = jax.grad(sum_of_squares)\n",
        "\n",
        "x = jnp.asarray([1.0, 2.0, 3.0, 4.0])\n",
        "\n",
        "print(sum_of_squares(x))\n",
        "\n",
        "print(sum_of_squares_dx(x))"
      ]
    },
    {
      "cell_type": "markdown",
      "metadata": {
        "id": "VfBt5CYbyKUX"
      },
      "source": [
        "You can think of `jax.grad` by analogy to the $\\nabla$ operator from vector calculus. Given a function $f(x)$, $\\nabla f$ represents the function that computes $f$'s gradient, i.e.\n",
        "\n",
        "$$\n",
        "(\\nabla f)(x)_i = \\frac{\\partial f}{\\partial x_i}(x).\n",
        "$$\n",
        "\n",
        "Analogously, `jax.grad(f)` is the function that computes the gradient, so `jax.grad(f)(x)` is the gradient of `f` at `x`.\n",
        "\n",
        "(Like $\\nabla$, `jax.grad` will only work on functions with a scalar output -- it will raise an error otherwise.)\n",
        "\n",
        "This makes the JAX API quite different from other autodiff libraries like Tensorflow and PyTorch, where to compute the gradient we use the loss tensor itself (e.g. by calling `loss.backward()`). The JAX API works directly with functions, staying closer to the underlying math. Once you become accustomed to this way of doing things, it feels natural: your loss function in code really is a function of parameters and data, and you find its gradient just like you would in the math.\n",
        "\n",
        "This way of doing things makes it straightforward to control things like which variables to differentiate with respect to. By default, `jax.grad` will find the gradient with respect to the first argument. In the example below, the result of `sum_squared_error_dx` will be the gradient of `sum_squared_error` with respect to `x`."
      ]
    },
    {
      "cell_type": "code",
      "execution_count": null,
      "metadata": {
        "id": "f3NfaVu4yrQE",
        "outputId": "f9b0ed98-1755-41b0-f7b2-5058708c9e01",
        "colab": {
          "base_uri": "https://localhost:8080/"
        }
      },
      "outputs": [
        {
          "output_type": "stream",
          "name": "stdout",
          "text": [
            "[-0.20000005 -0.19999981 -0.19999981 -0.19999981]\n"
          ]
        }
      ],
      "source": [
        "def sum_squared_error(x, y):\n",
        "  return jnp.sum((x-y)**2)\n",
        "\n",
        "sum_squared_error_dx = jax.grad(sum_squared_error)\n",
        "\n",
        "y = jnp.asarray([1.1, 2.1, 3.1, 4.1])\n",
        "\n",
        "print(sum_squared_error_dx(x, y))"
      ]
    },
    {
      "cell_type": "markdown",
      "metadata": {
        "id": "1tOztA5zpLWN"
      },
      "source": [
        "To find the gradient with respect to a different argument (or several), you can set `argnums`:"
      ]
    },
    {
      "cell_type": "code",
      "execution_count": null,
      "metadata": {
        "id": "FQSczVQkqIPY",
        "outputId": "ad23c999-c006-4edb-f3a5-78479f1b585c",
        "colab": {
          "base_uri": "https://localhost:8080/"
        }
      },
      "outputs": [
        {
          "output_type": "execute_result",
          "data": {
            "text/plain": [
              "(DeviceArray([-0.20000005, -0.19999981, -0.19999981, -0.19999981], dtype=float32),\n",
              " DeviceArray([0.20000005, 0.19999981, 0.19999981, 0.19999981], dtype=float32))"
            ]
          },
          "metadata": {},
          "execution_count": 27
        }
      ],
      "source": [
        "jax.grad(sum_squared_error, argnums=(0, 1))(x, y)  # Find gradient wrt both x & y"
      ]
    },
    {
      "cell_type": "markdown",
      "metadata": {
        "id": "yQAMTnZSqo-t"
      },
      "source": [
        "Does this mean that when doing machine learning, we need to write functions with gigantic argument lists, with an argument for each model parameter array? No. JAX comes equipped with machinery for bundling arrays together in data structures called 'pytrees', on which more in a [later guide](https://colab.research.google.com/github/google/jax/blob/main/docs/jax-101/05.1-pytrees.ipynb). So, most often, use of `jax.grad` looks like this:\n",
        "\n",
        "```\n",
        "def loss_fn(params, data):\n",
        "  ...\n",
        "\n",
        "grads = jax.grad(loss_fn)(params, data_batch)\n",
        "```"
      ]
    },
    {
      "cell_type": "markdown",
      "metadata": {
        "id": "oBowiovisT97"
      },
      "source": [
        "where `params` is, for example, a nested dict of arrays, and the returned `grads` is another nested dict of arrays with the same structure."
      ]
    },
    {
      "cell_type": "markdown",
      "metadata": {
        "id": "LNjf9jUEsZZ8"
      },
      "source": [
        "## Value and Grad\n",
        "\n",
        "Often, you need to find both the value and the gradient of a function, e.g. if you want to log the training loss. JAX has a handy sister transformation for efficiently doing that:"
      ]
    },
    {
      "cell_type": "code",
      "execution_count": null,
      "metadata": {
        "id": "dWg4_-h3sYwl",
        "outputId": "7c83df30-2963-4f4f-a60e-fee59c4745a6",
        "colab": {
          "base_uri": "https://localhost:8080/"
        }
      },
      "outputs": [
        {
          "output_type": "execute_result",
          "data": {
            "text/plain": [
              "(DeviceArray(0.03999995, dtype=float32),\n",
              " DeviceArray([-0.20000005, -0.19999981, -0.19999981, -0.19999981], dtype=float32))"
            ]
          },
          "metadata": {},
          "execution_count": 28
        }
      ],
      "source": [
        "jax.value_and_grad(sum_squared_error)(x, y)"
      ]
    },
    {
      "cell_type": "markdown",
      "metadata": {
        "id": "QVT2EWHJsvvv"
      },
      "source": [
        "which returns a tuple of, you guessed it, (value, grad). To be precise, for any `f`,\n",
        "\n",
        "```\n",
        "jax.value_and_grad(f)(*xs) == (f(*xs), jax.grad(f)(*xs)) \n",
        "```"
      ]
    },
    {
      "cell_type": "markdown",
      "metadata": {
        "id": "fk4FUXe7vsW4"
      },
      "source": [
        "## Differences from NumPy\n",
        "\n",
        "The `jax.numpy` API closely follows that of NumPy. However, there are some important differences. We cover many of these in future guides, but it's worth pointing some out now.\n",
        "\n",
        "The most important difference, and in some sense the root of all the rest, is that JAX is designed to be _functional_, as in _functional programming_. The reason behind this is that the kinds of program transformations that JAX enables are much more feasible in functional-style programs.\n",
        "\n",
        "An introduction to functional programming (FP) is out of scope of this guide. If you already are familiar with FP, you will find your FP intuition helpful while learning JAX. If not, don't worry! The important feature of functional programming to grok when working with JAX is very simple: don't write code with side-effects.\n",
        "\n",
        "A side-effect is any effect of a function that doesn't appear in its output. One example is modifying an array in place:"
      ]
    },
    {
      "cell_type": "code",
      "execution_count": null,
      "metadata": {
        "id": "o_YBuLQC1wPJ",
        "outputId": "4249edd6-fc80-474b-a14f-3135e89f4da0",
        "colab": {
          "base_uri": "https://localhost:8080/"
        }
      },
      "outputs": [
        {
          "output_type": "execute_result",
          "data": {
            "text/plain": [
              "array([123,   2,   3])"
            ]
          },
          "metadata": {},
          "execution_count": 29
        }
      ],
      "source": [
        "import numpy as np\n",
        "\n",
        "x = np.array([1, 2, 3])\n",
        "\n",
        "def in_place_modify(x):\n",
        "  x[0] = 123\n",
        "  return None\n",
        "\n",
        "in_place_modify(x)\n",
        "x"
      ]
    },
    {
      "cell_type": "code",
      "execution_count": null,
      "metadata": {
        "id": "Rmklk6BB2xF0",
        "outputId": "1afe71a8-56ca-4050-f8f5-e8c0532d1cd2",
        "colab": {
          "base_uri": "https://localhost:8080/"
        }
      },
      "outputs": [
        {
          "output_type": "execute_result",
          "data": {
            "text/plain": [
              "DeviceArray([123,   2,   3], dtype=int32)"
            ]
          },
          "metadata": {},
          "execution_count": 30
        }
      ],
      "source": [
        "def jax_in_place_modify(x):\n",
        "  return x.at[0].set(123)\n",
        "\n",
        "y = jnp.array([1, 2, 3])\n",
        "jax_in_place_modify(y)"
      ]
    },
    {
      "cell_type": "markdown",
      "metadata": {
        "id": "91tn_25vdrNf"
      },
      "source": [
        "Note that the old array was untouched, so there is no side-effect:"
      ]
    },
    {
      "cell_type": "code",
      "execution_count": null,
      "metadata": {
        "id": "KQGXig4Hde6T",
        "outputId": "4cbecc10-abef-45bd-b5fe-54f7c5c97b58",
        "colab": {
          "base_uri": "https://localhost:8080/"
        }
      },
      "outputs": [
        {
          "output_type": "execute_result",
          "data": {
            "text/plain": [
              "DeviceArray([1, 2, 3], dtype=int32)"
            ]
          },
          "metadata": {},
          "execution_count": 31
        }
      ],
      "source": [
        "y"
      ]
    },
    {
      "cell_type": "markdown",
      "metadata": {
        "id": "d5TibzPO25qa"
      },
      "source": [
        "Side-effect-free code is sometimes called *functionally pure*, or just *pure*.\n",
        "\n",
        "Isn't the pure version less efficient? Strictly, yes; we are creating a new array. However, as we will explain in the next guide, JAX computations are often compiled before being run using another program transformation, `jax.jit`. If we don't use the old array after modifying it 'in place' using indexed update operators, the compiler can recognise that it can in fact compile to an in-place modify, resulting in efficient code in the end.\n",
        "\n",
        "Of course, it's possible to mix side-effectful Python code and functionally pure JAX code, and we will touch on this more later. As you get more familiar with JAX, you will learn how and when this can work. As a rule of thumb, however, any functions intended to be transformed by JAX should avoid side-effects, and the JAX primitives themselves will try to help you do that.\n",
        "\n",
        "We will explain other places where the JAX idiosyncracies become relevant as they come up. There is even a section that focuses entirely on getting used to the functional programming style of handling state: [Part 7: Problem of State](https://colab.research.google.com/github/google/jax/blob/main/docs/jax-101/07-state.ipynb). However, if you're impatient, you can find a [summary of JAX's sharp edges](https://jax.readthedocs.io/en/latest/notebooks/Common_Gotchas_in_JAX.html) in the JAX docs."
      ]
    },
    {
      "cell_type": "markdown",
      "metadata": {
        "id": "dFn_VBFFlGCz"
      },
      "source": [
        "## Your first JAX training loop\n",
        "\n",
        "We still have much to learn about JAX, but you already know enough to understand how we can use JAX to build a simple training loop.\n",
        "\n",
        "To keep things simple, we'll start with a linear regression. \n",
        "\n",
        "Our data is sampled according to $y = w_{true} x + b_{true} + \\epsilon$."
      ]
    },
    {
      "cell_type": "code",
      "execution_count": null,
      "metadata": {
        "id": "WGgyEWFqrPq1",
        "outputId": "edb4688b-6195-4709-b643-e2ac0bb12856",
        "colab": {
          "base_uri": "https://localhost:8080/",
          "height": 265
        }
      },
      "outputs": [
        {
          "output_type": "display_data",
          "data": {
            "text/plain": [
              "<Figure size 432x288 with 1 Axes>"
            ],
            "image/png": "[encoded data removed]"
          },
          "metadata": {
            "needs_background": "light"
          }
        }
      ],
      "source": [
        "import numpy as np\n",
        "import matplotlib.pyplot as plt\n",
        "\n",
        "xs = np.random.normal(size=(100,))\n",
        "noise = np.random.normal(scale=0.1, size=(100,))\n",
        "ys = xs * 3 - 1 + noise\n",
        "\n",
        "plt.scatter(xs, ys);"
      ]
    },
    {
      "cell_type": "markdown",
      "metadata": {
        "id": "RTh22mo4rR1x"
      },
      "source": [
        "Therefore, our model is $\\hat y(x; \\theta) = wx + b$.\n",
        "\n",
        "We will use a single array, `theta = [w, b]` to house both parameters:"
      ]
    },
    {
      "cell_type": "code",
      "execution_count": null,
      "metadata": {
        "id": "TnVrRTMamyzb"
      },
      "outputs": [],
      "source": [
        "def model(theta, x):\n",
        "  \"\"\"Computes wx + b on a batch of input x.\"\"\"\n",
        "  w, b = theta\n",
        "  return w * x + b"
      ]
    },
    {
      "cell_type": "markdown",
      "metadata": {
        "id": "qCrLmmKrn9_h"
      },
      "source": [
        "The loss function is $J(x, y; \\theta) = (\\hat y - y)^2$."
      ]
    },
    {
      "cell_type": "code",
      "execution_count": null,
      "metadata": {
        "id": "07eMcDLMn9Ww"
      },
      "outputs": [],
      "source": [
        "def loss_fn(theta, x, y):\n",
        "  prediction = model(theta, x)\n",
        "  return jnp.mean((prediction-y)**2)"
      ]
    },
    {
      "cell_type": "markdown",
      "metadata": {
        "id": "ejMt4dulnoYX"
      },
      "source": [
        "How do we optimize a loss function? Using gradient descent. At each update step, we will find the gradient of the loss w.r.t. the parameters, and take a small step in the direction of steepest descent:\n",
        "\n",
        "$\\theta_{new} = \\theta - 0.1 (\\nabla_\\theta J) (x, y; \\theta)$"
      ]
    },
    {
      "cell_type": "code",
      "execution_count": null,
      "metadata": {
        "id": "2I6T5Wphpaaa"
      },
      "outputs": [],
      "source": [
        "def update(theta, x, y, lr=0.1):\n",
        "  return theta - lr * jax.grad(loss_fn)(theta, x, y)"
      ]
    },
    {
      "cell_type": "markdown",
      "metadata": {
        "id": "MAUL1gT_opVn"
      },
      "source": [
        "In JAX, it's common to define an `update()` function that is called every step, taking the current parameters as input and returning the new parameters. This is a natural consequence of JAX's functional nature, and is explained in more detail in [The Problem of State](https://colab.research.google.com/github/google/jax/blob/main/docs/jax-101/07-state.ipynb).\n",
        "\n",
        "This function can then be JIT-compiled in its entirety for maximum efficiency. The next guide will explain exactly how `jax.jit` works, but if you want to, you can try adding `@jax.jit` before the `update()` definition, and see how the training loop below runs much faster."
      ]
    },
    {
      "cell_type": "code",
      "execution_count": null,
      "metadata": {
        "id": "WLZxY7nIpuVW",
        "outputId": "6b1620e1-eadd-46b6-9c9d-084a029070b1",
        "colab": {
          "base_uri": "https://localhost:8080/",
          "height": 283
        }
      },
      "outputs": [
        {
          "output_type": "stream",
          "name": "stdout",
          "text": [
            "w: 3.01, b: -1.01\n"
          ]
        },
        {
          "output_type": "display_data",
          "data": {
            "text/plain": [
              "<Figure size 432x288 with 1 Axes>"
            ],
            "image/png": "[encoded data removed]"
          },
          "metadata": {
            "needs_background": "light"
          }
        }
      ],
      "source": [
        "theta = jnp.array([1., 1.])\n",
        "\n",
        "for _ in range(1000):\n",
        "  theta = update(theta, xs, ys)\n",
        "\n",
        "plt.scatter(xs, ys)\n",
        "plt.plot(xs, model(theta, xs))\n",
        "\n",
        "w, b = theta\n",
        "print(f\"w: {w:<.2f}, b: {b:<.2f}\")"
      ]
    },
    {
      "cell_type": "markdown",
      "metadata": {
        "id": "5-q17kJ_rjLc"
      },
      "source": [
        "As you will see going through these guides, this basic recipe underlies almost all training loops you'll see implemented in JAX. The main difference between this example and real training loops is the simplicity of our model: that allows us to use a single array to house all our parameters. We cover managing more parameters in the later [pytree guide](https://colab.research.google.com/github/google/jax/blob/main/docs/jax-101/05.1-pytrees.ipynb). Feel free to skip forward to that guide now to see how to manually define and train a simple MLP in JAX."
      ]
    }
  ],
  "metadata": {
    "colab": {
      "provenance": [],
      "include_colab_link": true
    },
    "jupytext": {
      "formats": "ipynb,md:myst"
    },
    "kernelspec": {
      "display_name": "Python 3",
      "name": "python3"
    },
    "language_info": {
      "codemirror_mode": {
        "name": "ipython",
        "version": 3
      },
      "file_extension": ".py",
      "mimetype": "text/x-python",
      "name": "python",
      "nbconvert_exporter": "python",
      "pygments_lexer": "ipython3",
      "version": "3.7.6"
    }
  },
  "nbformat": 4,
  "nbformat_minor": 0
}