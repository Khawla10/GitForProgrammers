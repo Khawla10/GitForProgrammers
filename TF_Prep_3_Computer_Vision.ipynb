{
  "nbformat": 4,
  "nbformat_minor": 0,
  "metadata": {
    "accelerator": "GPU",
    "colab": {
      "provenance": [],
      "include_colab_link": true
    },
    "kernelspec": {
      "display_name": "Python 3",
      "name": "python3"
    },
    "language_info": {
      "name": "python"
    }
  },
  "cells": [
    {
      "cell_type": "markdown",
      "metadata": {
        "id": "view-in-github",
        "colab_type": "text"
      },
      "source": [
        "<a href=\"https://colab.research.google.com/github/Khawla10/GitForProgrammers/blob/main/TF_Prep_3_Computer_Vision.ipynb\" target=\"_parent\"><img src=\"https://colab.research.google.com/assets/colab-badge.svg\" alt=\"Open In Colab\"/></a>"
      ]
    },
    {
      "cell_type": "code",
      "source": [
        "!wget http://laurencemoroney.com/horses-or-humans-dataset -O /tmp/horse-or-human2.zip"
      ],
      "metadata": {
        "colab": {
          "base_uri": "https://localhost:8080/"
        },
        "id": "7oYXOcdf2ahu",
        "outputId": "12290539-5f09-4086-c3bc-dc001633f735"
      },
      "execution_count": null,
      "outputs": [
        {
          "output_type": "stream",
          "name": "stdout",
          "text": [
            "URL transformed to HTTPS due to an HSTS policy\n",
            "--2023-05-18 17:13:41--  https://laurencemoroney.com/horses-or-humans-dataset\n",
            "Resolving laurencemoroney.com (laurencemoroney.com)... 151.101.65.195, 151.101.1.195\n",
            "Connecting to laurencemoroney.com (laurencemoroney.com)|151.101.65.195|:443... connected.\n",
            "HTTP request sent, awaiting response... 301 Moved Permanently\n",
            "Location: /horses-or-humans-dataset/ [following]\n",
            "URL transformed to HTTPS due to an HSTS policy\n",
            "--2023-05-18 17:13:41--  https://laurencemoroney.com/horses-or-humans-dataset/\n",
            "Reusing existing connection to laurencemoroney.com:443.\n",
            "HTTP request sent, awaiting response... 200 OK\n",
            "Length: 401 [text/html]\n",
            "Saving to: ‘/tmp/horse-or-human2.zip’\n",
            "\n",
            "\r/tmp/horse-or-human   0%[                    ]       0  --.-KB/s               \r/tmp/horse-or-human 100%[===================>]     401  --.-KB/s    in 0s      \n",
            "\n",
            "2023-05-18 17:13:41 (24.3 MB/s) - ‘/tmp/horse-or-human2.zip’ saved [401/401]\n",
            "\n"
          ]
        }
      ]
    },
    {
      "cell_type": "code",
      "source": [
        "import os\n",
        "import zipfile\n",
        "\n",
        "local_zip = '/tmp/horse-or-human2.zip'\n",
        "zip_ref = zipfile.ZipFile(local_zip, 'r')\n",
        "zip_ref.extractall('/tmp/horse-or-human2')\n",
        "zip_ref.close()"
      ],
      "metadata": {
        "colab": {
          "base_uri": "https://localhost:8080/",
          "height": 423
        },
        "id": "9UVf9daB2pHI",
        "outputId": "ac579006-b41a-491b-d815-93bcf6f83649"
      },
      "execution_count": null,
      "outputs": [
        {
          "output_type": "error",
          "ename": "BadZipFile",
          "evalue": "ignored",
          "traceback": [
            "\u001b[0;31m---------------------------------------------------------------------------\u001b[0m",
            "\u001b[0;31mBadZipFile\u001b[0m                                Traceback (most recent call last)",
            "\u001b[0;32m<ipython-input-4-eb9c4d9d51f7>\u001b[0m in \u001b[0;36m<cell line: 5>\u001b[0;34m()\u001b[0m\n\u001b[1;32m      3\u001b[0m \u001b[0;34m\u001b[0m\u001b[0m\n\u001b[1;32m      4\u001b[0m \u001b[0mlocal_zip\u001b[0m \u001b[0;34m=\u001b[0m \u001b[0;34m'/tmp/horse-or-human2.zip'\u001b[0m\u001b[0;34m\u001b[0m\u001b[0;34m\u001b[0m\u001b[0m\n\u001b[0;32m----> 5\u001b[0;31m \u001b[0mzip_ref\u001b[0m \u001b[0;34m=\u001b[0m \u001b[0mzipfile\u001b[0m\u001b[0;34m.\u001b[0m\u001b[0mZipFile\u001b[0m\u001b[0;34m(\u001b[0m\u001b[0mlocal_zip\u001b[0m\u001b[0;34m,\u001b[0m \u001b[0;34m'r'\u001b[0m\u001b[0;34m)\u001b[0m\u001b[0;34m\u001b[0m\u001b[0;34m\u001b[0m\u001b[0m\n\u001b[0m\u001b[1;32m      6\u001b[0m \u001b[0mzip_ref\u001b[0m\u001b[0;34m.\u001b[0m\u001b[0mextractall\u001b[0m\u001b[0;34m(\u001b[0m\u001b[0;34m'/tmp/horse-or-human2'\u001b[0m\u001b[0;34m)\u001b[0m\u001b[0;34m\u001b[0m\u001b[0;34m\u001b[0m\u001b[0m\n\u001b[1;32m      7\u001b[0m \u001b[0mzip_ref\u001b[0m\u001b[0;34m.\u001b[0m\u001b[0mclose\u001b[0m\u001b[0;34m(\u001b[0m\u001b[0;34m)\u001b[0m\u001b[0;34m\u001b[0m\u001b[0;34m\u001b[0m\u001b[0m\n",
            "\u001b[0;32m/usr/lib/python3.10/zipfile.py\u001b[0m in \u001b[0;36m__init__\u001b[0;34m(self, file, mode, compression, allowZip64, compresslevel, strict_timestamps)\u001b[0m\n\u001b[1;32m   1267\u001b[0m         \u001b[0;32mtry\u001b[0m\u001b[0;34m:\u001b[0m\u001b[0;34m\u001b[0m\u001b[0;34m\u001b[0m\u001b[0m\n\u001b[1;32m   1268\u001b[0m             \u001b[0;32mif\u001b[0m \u001b[0mmode\u001b[0m \u001b[0;34m==\u001b[0m \u001b[0;34m'r'\u001b[0m\u001b[0;34m:\u001b[0m\u001b[0;34m\u001b[0m\u001b[0;34m\u001b[0m\u001b[0m\n\u001b[0;32m-> 1269\u001b[0;31m                 \u001b[0mself\u001b[0m\u001b[0;34m.\u001b[0m\u001b[0m_RealGetContents\u001b[0m\u001b[0;34m(\u001b[0m\u001b[0;34m)\u001b[0m\u001b[0;34m\u001b[0m\u001b[0;34m\u001b[0m\u001b[0m\n\u001b[0m\u001b[1;32m   1270\u001b[0m             \u001b[0;32melif\u001b[0m \u001b[0mmode\u001b[0m \u001b[0;32min\u001b[0m \u001b[0;34m(\u001b[0m\u001b[0;34m'w'\u001b[0m\u001b[0;34m,\u001b[0m \u001b[0;34m'x'\u001b[0m\u001b[0;34m)\u001b[0m\u001b[0;34m:\u001b[0m\u001b[0;34m\u001b[0m\u001b[0;34m\u001b[0m\u001b[0m\n\u001b[1;32m   1271\u001b[0m                 \u001b[0;31m# set the modified flag so central directory gets written\u001b[0m\u001b[0;34m\u001b[0m\u001b[0;34m\u001b[0m\u001b[0m\n",
            "\u001b[0;32m/usr/lib/python3.10/zipfile.py\u001b[0m in \u001b[0;36m_RealGetContents\u001b[0;34m(self)\u001b[0m\n\u001b[1;32m   1334\u001b[0m             \u001b[0;32mraise\u001b[0m \u001b[0mBadZipFile\u001b[0m\u001b[0;34m(\u001b[0m\u001b[0;34m\"File is not a zip file\"\u001b[0m\u001b[0;34m)\u001b[0m\u001b[0;34m\u001b[0m\u001b[0;34m\u001b[0m\u001b[0m\n\u001b[1;32m   1335\u001b[0m         \u001b[0;32mif\u001b[0m \u001b[0;32mnot\u001b[0m \u001b[0mendrec\u001b[0m\u001b[0;34m:\u001b[0m\u001b[0;34m\u001b[0m\u001b[0;34m\u001b[0m\u001b[0m\n\u001b[0;32m-> 1336\u001b[0;31m             \u001b[0;32mraise\u001b[0m \u001b[0mBadZipFile\u001b[0m\u001b[0;34m(\u001b[0m\u001b[0;34m\"File is not a zip file\"\u001b[0m\u001b[0;34m)\u001b[0m\u001b[0;34m\u001b[0m\u001b[0;34m\u001b[0m\u001b[0m\n\u001b[0m\u001b[1;32m   1337\u001b[0m         \u001b[0;32mif\u001b[0m \u001b[0mself\u001b[0m\u001b[0;34m.\u001b[0m\u001b[0mdebug\u001b[0m \u001b[0;34m>\u001b[0m \u001b[0;36m1\u001b[0m\u001b[0;34m:\u001b[0m\u001b[0;34m\u001b[0m\u001b[0;34m\u001b[0m\u001b[0m\n\u001b[1;32m   1338\u001b[0m             \u001b[0mprint\u001b[0m\u001b[0;34m(\u001b[0m\u001b[0mendrec\u001b[0m\u001b[0;34m)\u001b[0m\u001b[0;34m\u001b[0m\u001b[0;34m\u001b[0m\u001b[0m\n",
            "\u001b[0;31mBadZipFile\u001b[0m: File is not a zip file"
          ]
        }
      ]
    },
    {
      "cell_type": "code",
      "metadata": {
        "colab": {
          "base_uri": "https://localhost:8080/"
        },
        "id": "-o-QIeLkcbUN",
        "outputId": "29445c9e-2bb1-4d26-ab9a-e0f05000ad98"
      },
      "source": [
        "#Training Data\n",
        "!wget --no-check-certificate \\\n",
        "    https://storage.googleapis.com/laurencemoroney-blog.appspot.com/horse-or-human.zip \\\n",
        "    -O /tmp/horse-or-human.zip\n",
        "\n",
        "#Validation Data\n",
        "!wget --no-check-certificate \\\n",
        "    https://storage.googleapis.com/laurencemoroney-blog.appspot.com/validation-horse-or-human.zip \\\n",
        "    -O /tmp/validation-horse-or-human.zip"
      ],
      "execution_count": null,
      "outputs": [
        {
          "output_type": "stream",
          "name": "stdout",
          "text": [
            "--2023-05-18 16:47:30--  https://storage.googleapis.com/laurencemoroney-blog.appspot.com/horse-or-human.zip\n",
            "Resolving storage.googleapis.com (storage.googleapis.com)... 172.253.115.128, 172.253.63.128, 142.250.31.128, ...\n",
            "Connecting to storage.googleapis.com (storage.googleapis.com)|172.253.115.128|:443... connected.\n",
            "HTTP request sent, awaiting response... 404 Not Found\n",
            "2023-05-18 16:47:30 ERROR 404: Not Found.\n",
            "\n",
            "--2023-05-18 16:47:30--  https://storage.googleapis.com/laurencemoroney-blog.appspot.com/validation-horse-or-human.zip\n",
            "Resolving storage.googleapis.com (storage.googleapis.com)... 172.253.115.128, 172.253.63.128, 142.250.31.128, ...\n",
            "Connecting to storage.googleapis.com (storage.googleapis.com)|172.253.115.128|:443... connected.\n",
            "HTTP request sent, awaiting response... 404 Not Found\n",
            "2023-05-18 16:47:31 ERROR 404: Not Found.\n",
            "\n"
          ]
        }
      ]
    },
    {
      "cell_type": "code",
      "metadata": {
        "id": "58rGCwu7gaSW",
        "colab": {
          "base_uri": "https://localhost:8080/",
          "height": 380
        },
        "outputId": "627c94a7-6424-4647-82f4-e7c3a7a2998f"
      },
      "source": [
        "import os\n",
        "import zipfile\n",
        "\n",
        "local_zip = '/tmp/horse-or-human.zip'\n",
        "zip_ref = zipfile.ZipFile(local_zip, 'r')\n",
        "zip_ref.extractall('/tmp/horse-or-human')\n",
        "zip_ref.close()\n",
        "\n",
        "local_zip = '/tmp/validation-horse-or-human.zip'\n",
        "zip_ref = zipfile.ZipFile(local_zip, 'r')\n",
        "zip_ref.extractall('/tmp/validation-horse-or-human')\n",
        "zip_ref.close()"
      ],
      "execution_count": null,
      "outputs": [
        {
          "output_type": "error",
          "ename": "BadZipFile",
          "evalue": "ignored",
          "traceback": [
            "\u001b[0;31m---------------------------------------------------------------------------\u001b[0m",
            "\u001b[0;31mBadZipFile\u001b[0m                                Traceback (most recent call last)",
            "\u001b[0;32m<ipython-input-6-dbae53265656>\u001b[0m in \u001b[0;36m<cell line: 5>\u001b[0;34m()\u001b[0m\n\u001b[1;32m      3\u001b[0m \u001b[0;34m\u001b[0m\u001b[0m\n\u001b[1;32m      4\u001b[0m \u001b[0mlocal_zip\u001b[0m \u001b[0;34m=\u001b[0m \u001b[0;34m'/tmp/horse-or-human.zip'\u001b[0m\u001b[0;34m\u001b[0m\u001b[0;34m\u001b[0m\u001b[0m\n\u001b[0;32m----> 5\u001b[0;31m \u001b[0mzip_ref\u001b[0m \u001b[0;34m=\u001b[0m \u001b[0mzipfile\u001b[0m\u001b[0;34m.\u001b[0m\u001b[0mZipFile\u001b[0m\u001b[0;34m(\u001b[0m\u001b[0mlocal_zip\u001b[0m\u001b[0;34m,\u001b[0m \u001b[0;34m'r'\u001b[0m\u001b[0;34m)\u001b[0m\u001b[0;34m\u001b[0m\u001b[0;34m\u001b[0m\u001b[0m\n\u001b[0m\u001b[1;32m      6\u001b[0m \u001b[0mzip_ref\u001b[0m\u001b[0;34m.\u001b[0m\u001b[0mextractall\u001b[0m\u001b[0;34m(\u001b[0m\u001b[0;34m'/tmp/horse-or-human'\u001b[0m\u001b[0;34m)\u001b[0m\u001b[0;34m\u001b[0m\u001b[0;34m\u001b[0m\u001b[0m\n\u001b[1;32m      7\u001b[0m \u001b[0mzip_ref\u001b[0m\u001b[0;34m.\u001b[0m\u001b[0mclose\u001b[0m\u001b[0;34m(\u001b[0m\u001b[0;34m)\u001b[0m\u001b[0;34m\u001b[0m\u001b[0;34m\u001b[0m\u001b[0m\n",
            "\u001b[0;32m/usr/lib/python3.10/zipfile.py\u001b[0m in \u001b[0;36m__init__\u001b[0;34m(self, file, mode, compression, allowZip64, compresslevel, strict_timestamps)\u001b[0m\n\u001b[1;32m   1267\u001b[0m         \u001b[0;32mtry\u001b[0m\u001b[0;34m:\u001b[0m\u001b[0;34m\u001b[0m\u001b[0;34m\u001b[0m\u001b[0m\n\u001b[1;32m   1268\u001b[0m             \u001b[0;32mif\u001b[0m \u001b[0mmode\u001b[0m \u001b[0;34m==\u001b[0m \u001b[0;34m'r'\u001b[0m\u001b[0;34m:\u001b[0m\u001b[0;34m\u001b[0m\u001b[0;34m\u001b[0m\u001b[0m\n\u001b[0;32m-> 1269\u001b[0;31m                 \u001b[0mself\u001b[0m\u001b[0;34m.\u001b[0m\u001b[0m_RealGetContents\u001b[0m\u001b[0;34m(\u001b[0m\u001b[0;34m)\u001b[0m\u001b[0;34m\u001b[0m\u001b[0;34m\u001b[0m\u001b[0m\n\u001b[0m\u001b[1;32m   1270\u001b[0m             \u001b[0;32melif\u001b[0m \u001b[0mmode\u001b[0m \u001b[0;32min\u001b[0m \u001b[0;34m(\u001b[0m\u001b[0;34m'w'\u001b[0m\u001b[0;34m,\u001b[0m \u001b[0;34m'x'\u001b[0m\u001b[0;34m)\u001b[0m\u001b[0;34m:\u001b[0m\u001b[0;34m\u001b[0m\u001b[0;34m\u001b[0m\u001b[0m\n\u001b[1;32m   1271\u001b[0m                 \u001b[0;31m# set the modified flag so central directory gets written\u001b[0m\u001b[0;34m\u001b[0m\u001b[0;34m\u001b[0m\u001b[0m\n",
            "\u001b[0;32m/usr/lib/python3.10/zipfile.py\u001b[0m in \u001b[0;36m_RealGetContents\u001b[0;34m(self)\u001b[0m\n\u001b[1;32m   1334\u001b[0m             \u001b[0;32mraise\u001b[0m \u001b[0mBadZipFile\u001b[0m\u001b[0;34m(\u001b[0m\u001b[0;34m\"File is not a zip file\"\u001b[0m\u001b[0;34m)\u001b[0m\u001b[0;34m\u001b[0m\u001b[0;34m\u001b[0m\u001b[0m\n\u001b[1;32m   1335\u001b[0m         \u001b[0;32mif\u001b[0m \u001b[0;32mnot\u001b[0m \u001b[0mendrec\u001b[0m\u001b[0;34m:\u001b[0m\u001b[0;34m\u001b[0m\u001b[0;34m\u001b[0m\u001b[0m\n\u001b[0;32m-> 1336\u001b[0;31m             \u001b[0;32mraise\u001b[0m \u001b[0mBadZipFile\u001b[0m\u001b[0;34m(\u001b[0m\u001b[0;34m\"File is not a zip file\"\u001b[0m\u001b[0;34m)\u001b[0m\u001b[0;34m\u001b[0m\u001b[0;34m\u001b[0m\u001b[0m\n\u001b[0m\u001b[1;32m   1337\u001b[0m         \u001b[0;32mif\u001b[0m \u001b[0mself\u001b[0m\u001b[0;34m.\u001b[0m\u001b[0mdebug\u001b[0m \u001b[0;34m>\u001b[0m \u001b[0;36m1\u001b[0m\u001b[0;34m:\u001b[0m\u001b[0;34m\u001b[0m\u001b[0;34m\u001b[0m\u001b[0m\n\u001b[1;32m   1338\u001b[0m             \u001b[0mprint\u001b[0m\u001b[0;34m(\u001b[0m\u001b[0mendrec\u001b[0m\u001b[0;34m)\u001b[0m\u001b[0;34m\u001b[0m\u001b[0;34m\u001b[0m\u001b[0m\n",
            "\u001b[0;31mBadZipFile\u001b[0m: File is not a zip file"
          ]
        }
      ]
    },
    {
      "cell_type": "code",
      "metadata": {
        "id": "Og5SnroQgfs1"
      },
      "source": [
        "# Directory with our training horse pictures\n",
        "train_horse_dir = os.path.join('/tmp/horse-or-human/horses')\n",
        "\n",
        "# Directory with our training human pictures\n",
        "train_human_dir = os.path.join('/tmp/horse-or-human/humans')\n",
        "\n",
        "# Directory with our training horse pictures\n",
        "validation_horse_dir = os.path.join('/tmp/validation-horse-or-human/horses')\n",
        "\n",
        "# Directory with our training human pictures\n",
        "validation_human_dir = os.path.join('/tmp/validation-horse-or-human/humans')"
      ],
      "execution_count": null,
      "outputs": []
    },
    {
      "cell_type": "code",
      "metadata": {
        "colab": {
          "base_uri": "https://localhost:8080/",
          "height": 235
        },
        "id": "k4xd2YQsgjQ8",
        "outputId": "13178539-e48f-4bf6-fa07-98c4d17e4865"
      },
      "source": [
        "print('total training horse images:', len(os.listdir(train_horse_dir)))\n",
        "print('total training human images:', len(os.listdir(train_human_dir)))\n",
        "\n",
        "print('total validation horse images:', len(os.listdir(validation_horse_dir)))\n",
        "print('total validation human images:', len(os.listdir(validation_human_dir)))"
      ],
      "execution_count": null,
      "outputs": [
        {
          "output_type": "error",
          "ename": "FileNotFoundError",
          "evalue": "ignored",
          "traceback": [
            "\u001b[0;31m---------------------------------------------------------------------------\u001b[0m",
            "\u001b[0;31mFileNotFoundError\u001b[0m                         Traceback (most recent call last)",
            "\u001b[0;32m<ipython-input-4-e842ae7b1a0e>\u001b[0m in \u001b[0;36m<cell line: 1>\u001b[0;34m()\u001b[0m\n\u001b[0;32m----> 1\u001b[0;31m \u001b[0mprint\u001b[0m\u001b[0;34m(\u001b[0m\u001b[0;34m'total training horse images:'\u001b[0m\u001b[0;34m,\u001b[0m \u001b[0mlen\u001b[0m\u001b[0;34m(\u001b[0m\u001b[0mos\u001b[0m\u001b[0;34m.\u001b[0m\u001b[0mlistdir\u001b[0m\u001b[0;34m(\u001b[0m\u001b[0mtrain_horse_dir\u001b[0m\u001b[0;34m)\u001b[0m\u001b[0;34m)\u001b[0m\u001b[0;34m)\u001b[0m\u001b[0;34m\u001b[0m\u001b[0;34m\u001b[0m\u001b[0m\n\u001b[0m\u001b[1;32m      2\u001b[0m \u001b[0mprint\u001b[0m\u001b[0;34m(\u001b[0m\u001b[0;34m'total training human images:'\u001b[0m\u001b[0;34m,\u001b[0m \u001b[0mlen\u001b[0m\u001b[0;34m(\u001b[0m\u001b[0mos\u001b[0m\u001b[0;34m.\u001b[0m\u001b[0mlistdir\u001b[0m\u001b[0;34m(\u001b[0m\u001b[0mtrain_human_dir\u001b[0m\u001b[0;34m)\u001b[0m\u001b[0;34m)\u001b[0m\u001b[0;34m)\u001b[0m\u001b[0;34m\u001b[0m\u001b[0;34m\u001b[0m\u001b[0m\n\u001b[1;32m      3\u001b[0m \u001b[0;34m\u001b[0m\u001b[0m\n\u001b[1;32m      4\u001b[0m \u001b[0mprint\u001b[0m\u001b[0;34m(\u001b[0m\u001b[0;34m'total validation horse images:'\u001b[0m\u001b[0;34m,\u001b[0m \u001b[0mlen\u001b[0m\u001b[0;34m(\u001b[0m\u001b[0mos\u001b[0m\u001b[0;34m.\u001b[0m\u001b[0mlistdir\u001b[0m\u001b[0;34m(\u001b[0m\u001b[0mvalidation_horse_dir\u001b[0m\u001b[0;34m)\u001b[0m\u001b[0;34m)\u001b[0m\u001b[0;34m)\u001b[0m\u001b[0;34m\u001b[0m\u001b[0;34m\u001b[0m\u001b[0m\n\u001b[1;32m      5\u001b[0m \u001b[0mprint\u001b[0m\u001b[0;34m(\u001b[0m\u001b[0;34m'total validation human images:'\u001b[0m\u001b[0;34m,\u001b[0m \u001b[0mlen\u001b[0m\u001b[0;34m(\u001b[0m\u001b[0mos\u001b[0m\u001b[0;34m.\u001b[0m\u001b[0mlistdir\u001b[0m\u001b[0;34m(\u001b[0m\u001b[0mvalidation_human_dir\u001b[0m\u001b[0;34m)\u001b[0m\u001b[0;34m)\u001b[0m\u001b[0;34m)\u001b[0m\u001b[0;34m\u001b[0m\u001b[0;34m\u001b[0m\u001b[0m\n",
            "\u001b[0;31mFileNotFoundError\u001b[0m: [Errno 2] No such file or directory: '/tmp/horse-or-human/horses'"
          ]
        }
      ]
    },
    {
      "cell_type": "code",
      "metadata": {
        "colab": {
          "base_uri": "https://localhost:8080/",
          "height": 235
        },
        "id": "w8cR5u4jha3z",
        "outputId": "b6351328-d5ff-4a14-b6cf-e65a2f366be2"
      },
      "source": [
        "%matplotlib inline\n",
        "\n",
        "import matplotlib.pyplot as plt\n",
        "import matplotlib.image as mpimg\n",
        "\n",
        "train_horse_names = os.listdir(train_horse_dir)\n",
        "train_human_names = os.listdir(train_human_dir)\n",
        "\n",
        "# Parameters for our graph; we'll output images in a 4x4 configuration\n",
        "nrows = 4\n",
        "ncols = 4\n",
        "\n",
        "# Index for iterating over images\n",
        "pic_index = 0\n",
        "\n",
        "# Set up matplotlib fig, and size it to fit 4x4 pics\n",
        "fig = plt.gcf()\n",
        "fig.set_size_inches(ncols * 4, nrows * 4)\n",
        "\n",
        "pic_index += 8\n",
        "next_horse_pix = [os.path.join(train_horse_dir, fname) \n",
        "                for fname in train_horse_names[pic_index-8:pic_index]]\n",
        "next_human_pix = [os.path.join(train_human_dir, fname) \n",
        "                for fname in train_human_names[pic_index-8:pic_index]]\n",
        "\n",
        "for i, img_path in enumerate(next_horse_pix+next_human_pix):\n",
        "  # Set up subplot; subplot indices start at 1\n",
        "  sp = plt.subplot(nrows, ncols, i + 1)\n",
        "  sp.axis('Off') # Don't show axes (or gridlines)\n",
        "\n",
        "  img = mpimg.imread(img_path)\n",
        "  plt.imshow(img)\n",
        "\n",
        "plt.show()"
      ],
      "execution_count": null,
      "outputs": [
        {
          "output_type": "error",
          "ename": "FileNotFoundError",
          "evalue": "ignored",
          "traceback": [
            "\u001b[0;31m---------------------------------------------------------------------------\u001b[0m",
            "\u001b[0;31mFileNotFoundError\u001b[0m                         Traceback (most recent call last)",
            "\u001b[0;32m<ipython-input-5-5aa61946c190>\u001b[0m in \u001b[0;36m<cell line: 6>\u001b[0;34m()\u001b[0m\n\u001b[1;32m      4\u001b[0m \u001b[0;32mimport\u001b[0m \u001b[0mmatplotlib\u001b[0m\u001b[0;34m.\u001b[0m\u001b[0mimage\u001b[0m \u001b[0;32mas\u001b[0m \u001b[0mmpimg\u001b[0m\u001b[0;34m\u001b[0m\u001b[0;34m\u001b[0m\u001b[0m\n\u001b[1;32m      5\u001b[0m \u001b[0;34m\u001b[0m\u001b[0m\n\u001b[0;32m----> 6\u001b[0;31m \u001b[0mtrain_horse_names\u001b[0m \u001b[0;34m=\u001b[0m \u001b[0mos\u001b[0m\u001b[0;34m.\u001b[0m\u001b[0mlistdir\u001b[0m\u001b[0;34m(\u001b[0m\u001b[0mtrain_horse_dir\u001b[0m\u001b[0;34m)\u001b[0m\u001b[0;34m\u001b[0m\u001b[0;34m\u001b[0m\u001b[0m\n\u001b[0m\u001b[1;32m      7\u001b[0m \u001b[0mtrain_human_names\u001b[0m \u001b[0;34m=\u001b[0m \u001b[0mos\u001b[0m\u001b[0;34m.\u001b[0m\u001b[0mlistdir\u001b[0m\u001b[0;34m(\u001b[0m\u001b[0mtrain_human_dir\u001b[0m\u001b[0;34m)\u001b[0m\u001b[0;34m\u001b[0m\u001b[0;34m\u001b[0m\u001b[0m\n\u001b[1;32m      8\u001b[0m \u001b[0;34m\u001b[0m\u001b[0m\n",
            "\u001b[0;31mFileNotFoundError\u001b[0m: [Errno 2] No such file or directory: '/tmp/horse-or-human/horses'"
          ]
        }
      ]
    },
    {
      "cell_type": "markdown",
      "source": [
        "# New Section"
      ],
      "metadata": {
        "id": "JL5qmDdSwwRr"
      }
    },
    {
      "cell_type": "code",
      "metadata": {
        "colab": {
          "base_uri": "https://localhost:8080/"
        },
        "id": "Y15K7hOmjyxY",
        "outputId": "c14cd7d2-2a76-4833-db0c-5617259d96d4"
      },
      "source": [
        "from tensorflow.keras.preprocessing.image import ImageDataGenerator\n",
        "\n",
        "# All images will be rescaled by 1./255\n",
        "train_datagen = ImageDataGenerator(rescale=1./255)\n",
        "test_datagen = ImageDataGenerator(rescale=1./255)\n",
        "\n",
        "# Flow training images in batches of 20 using train_datagen generator\n",
        "train_generator = train_datagen.flow_from_directory(\n",
        "        '/tmp/horse-or-human',  # This is the source directory for training images\n",
        "        target_size=(300, 300),  # All images will be resized to 300x300\n",
        "        batch_size=128,\n",
        "        # Since we use binary_crossentropy loss, we need binary labels\n",
        "        class_mode='binary')\n",
        "\n",
        "# Flow validation images in batches of 20 using test_datagen generator\n",
        "validation_generator = test_datagen.flow_from_directory(\n",
        "       '/tmp/validation-horse-or-human/',\n",
        "        target_size=(300, 300),\n",
        "        batch_size=32,\n",
        "        class_mode='binary')"
      ],
      "execution_count": null,
      "outputs": [
        {
          "name": "stdout",
          "output_type": "stream",
          "text": [
            "Found 1027 images belonging to 2 classes.\n",
            "Found 256 images belonging to 2 classes.\n"
          ]
        }
      ]
    },
    {
      "cell_type": "code",
      "metadata": {
        "id": "_xwp5GObnQ9o"
      },
      "source": [
        "import tensorflow as tf\n",
        "model = tf.keras.models.Sequential([\n",
        "    # Note the input shape is the desired size of the image 300x300 with 3 bytes color\n",
        "    # This is the first convolution\n",
        "    tf.keras.layers.Conv2D(16, (3,3), activation='relu', input_shape=(300, 300, 3)),\n",
        "    tf.keras.layers.MaxPooling2D(2, 2),\n",
        "    # The second convolution\n",
        "    tf.keras.layers.Conv2D(32, (3,3), activation='relu'),\n",
        "    #tf.keras.layers.Dropout(0.5),\n",
        "    tf.keras.layers.MaxPooling2D(2,2),\n",
        "    # The third convolution\n",
        "    tf.keras.layers.Conv2D(64, (3,3), activation='relu'),\n",
        "    #tf.keras.layers.Dropout(0.5),\n",
        "    tf.keras.layers.MaxPooling2D(2,2),\n",
        "    # The fourth convolution\n",
        "    tf.keras.layers.Conv2D(64, (3,3), activation='relu'),\n",
        "    tf.keras.layers.MaxPooling2D(2,2),\n",
        "    # The fifth convolution\n",
        "    tf.keras.layers.Conv2D(64, (3,3), activation='relu'),\n",
        "    tf.keras.layers.MaxPooling2D(2,2),\n",
        "    # Flatten the results to feed into a DNN\n",
        "    \n",
        "    tf.keras.layers.Flatten(),\n",
        "    #tf.keras.layers.Dropout(0.5),\n",
        "    # 512 neuron hidden layer\n",
        "    tf.keras.layers.Dense(512, activation='relu'),\n",
        "    # Only 1 output neuron. It will contain a value from 0-1 where 0 for 1 class ('horses') and 1 for the other ('humans')\n",
        "    tf.keras.layers.Dense(1, activation='sigmoid')\n",
        "])"
      ],
      "execution_count": null,
      "outputs": []
    },
    {
      "cell_type": "code",
      "metadata": {
        "colab": {
          "base_uri": "https://localhost:8080/"
        },
        "id": "TtNFVST2Y79k",
        "outputId": "4bc8d7cd-5e50-40bc-bf9c-d91ed0fac900"
      },
      "source": [
        "print(model.summary())"
      ],
      "execution_count": null,
      "outputs": [
        {
          "name": "stdout",
          "output_type": "stream",
          "text": [
            "Model: \"sequential\"\n",
            "_________________________________________________________________\n",
            "Layer (type)                 Output Shape              Param #   \n",
            "=================================================================\n",
            "conv2d (Conv2D)              (None, 298, 298, 16)      448       \n",
            "_________________________________________________________________\n",
            "max_pooling2d (MaxPooling2D) (None, 149, 149, 16)      0         \n",
            "_________________________________________________________________\n",
            "conv2d_1 (Conv2D)            (None, 147, 147, 32)      4640      \n",
            "_________________________________________________________________\n",
            "max_pooling2d_1 (MaxPooling2 (None, 73, 73, 32)        0         \n",
            "_________________________________________________________________\n",
            "conv2d_2 (Conv2D)            (None, 71, 71, 64)        18496     \n",
            "_________________________________________________________________\n",
            "max_pooling2d_2 (MaxPooling2 (None, 35, 35, 64)        0         \n",
            "_________________________________________________________________\n",
            "conv2d_3 (Conv2D)            (None, 33, 33, 64)        36928     \n",
            "_________________________________________________________________\n",
            "max_pooling2d_3 (MaxPooling2 (None, 16, 16, 64)        0         \n",
            "_________________________________________________________________\n",
            "conv2d_4 (Conv2D)            (None, 14, 14, 64)        36928     \n",
            "_________________________________________________________________\n",
            "max_pooling2d_4 (MaxPooling2 (None, 7, 7, 64)          0         \n",
            "_________________________________________________________________\n",
            "flatten (Flatten)            (None, 3136)              0         \n",
            "_________________________________________________________________\n",
            "dense (Dense)                (None, 512)               1606144   \n",
            "_________________________________________________________________\n",
            "dense_1 (Dense)              (None, 1)                 513       \n",
            "=================================================================\n",
            "Total params: 1,704,097\n",
            "Trainable params: 1,704,097\n",
            "Non-trainable params: 0\n",
            "_________________________________________________________________\n",
            "None\n"
          ]
        }
      ]
    },
    {
      "cell_type": "code",
      "metadata": {
        "colab": {
          "base_uri": "https://localhost:8080/"
        },
        "id": "EdzmjSq7nm14",
        "outputId": "1fba3352-13e1-47a3-f447-95789bc387d6"
      },
      "source": [
        "from tensorflow.keras.optimizers import RMSprop\n",
        "\n",
        "model.compile(loss='binary_crossentropy',\n",
        "              optimizer=RMSprop(lr=1e-4),\n",
        "              metrics=['accuracy'])"
      ],
      "execution_count": null,
      "outputs": [
        {
          "name": "stderr",
          "output_type": "stream",
          "text": [
            "/usr/local/lib/python3.7/dist-packages/keras/optimizer_v2/optimizer_v2.py:356: UserWarning: The `lr` argument is deprecated, use `learning_rate` instead.\n",
            "  \"The `lr` argument is deprecated, use `learning_rate` instead.\")\n"
          ]
        }
      ]
    },
    {
      "cell_type": "code",
      "metadata": {
        "colab": {
          "background_save": true,
          "base_uri": "https://localhost:8080/"
        },
        "id": "A1VRB51knrmt",
        "outputId": "69bff3cc-8fd9-46b4-f53e-ece6102bb248"
      },
      "source": [
        "history = model.fit(\n",
        "      train_generator,\n",
        "      steps_per_epoch=8,  \n",
        "      epochs=10,\n",
        "      verbose=1,\n",
        "      validation_data = validation_generator,\n",
        "      validation_steps=8)"
      ],
      "execution_count": null,
      "outputs": [
        {
          "name": "stdout",
          "output_type": "stream",
          "text": [
            "Epoch 1/100\n",
            "8/8 [==============================] - 100s 12s/step - loss: 0.6695 - accuracy: 0.6562 - val_loss: 0.6454 - val_accuracy: 0.5156\n",
            "Epoch 2/100\n",
            "8/8 [==============================] - 91s 11s/step - loss: 0.5930 - accuracy: 0.7063 - val_loss: 0.4829 - val_accuracy: 0.8555\n",
            "Epoch 3/100\n",
            "8/8 [==============================] - 86s 11s/step - loss: 0.4712 - accuracy: 0.9077 - val_loss: 0.3371 - val_accuracy: 0.8906\n",
            "Epoch 4/100\n",
            "8/8 [==============================] - 97s 12s/step - loss: 0.3644 - accuracy: 0.9121 - val_loss: 0.5582 - val_accuracy: 0.7891\n",
            "Epoch 5/100\n",
            "8/8 [==============================] - 88s 11s/step - loss: 0.2847 - accuracy: 0.9199 - val_loss: 0.8184 - val_accuracy: 0.7500\n",
            "Epoch 6/100\n",
            "8/8 [==============================] - 87s 11s/step - loss: 0.2199 - accuracy: 0.9299 - val_loss: 1.0663 - val_accuracy: 0.7344\n",
            "Epoch 7/100\n",
            "8/8 [==============================] - 91s 11s/step - loss: 0.2000 - accuracy: 0.9288 - val_loss: 0.8529 - val_accuracy: 0.8242\n",
            "Epoch 8/100\n",
            "8/8 [==============================] - 88s 11s/step - loss: 0.2035 - accuracy: 0.9244 - val_loss: 0.8139 - val_accuracy: 0.8281\n",
            "Epoch 9/100\n",
            "8/8 [==============================] - 92s 11s/step - loss: 0.1413 - accuracy: 0.9577 - val_loss: 0.9051 - val_accuracy: 0.8281\n",
            "Epoch 10/100\n",
            "8/8 [==============================] - 86s 11s/step - loss: 0.2531 - accuracy: 0.9143 - val_loss: 0.9320 - val_accuracy: 0.8086\n",
            "Epoch 11/100\n",
            "8/8 [==============================] - 97s 12s/step - loss: 0.1266 - accuracy: 0.9609 - val_loss: 0.9204 - val_accuracy: 0.8281\n",
            "Epoch 12/100\n",
            "8/8 [==============================] - 87s 11s/step - loss: 0.1246 - accuracy: 0.9555 - val_loss: 0.9287 - val_accuracy: 0.8359\n",
            "Epoch 13/100\n",
            "8/8 [==============================] - 90s 11s/step - loss: 0.1062 - accuracy: 0.9644 - val_loss: 0.8664 - val_accuracy: 0.8398\n",
            "Epoch 14/100\n",
            "8/8 [==============================] - 91s 11s/step - loss: 0.1289 - accuracy: 0.9544 - val_loss: 1.1217 - val_accuracy: 0.8242\n",
            "Epoch 15/100\n",
            "8/8 [==============================] - 103s 13s/step - loss: 0.1099 - accuracy: 0.9570 - val_loss: 1.6523 - val_accuracy: 0.7578\n",
            "Epoch 16/100\n",
            "8/8 [==============================] - 88s 13s/step - loss: 0.0883 - accuracy: 0.9666 - val_loss: 1.2748 - val_accuracy: 0.8164\n",
            "Epoch 17/100\n",
            "8/8 [==============================] - 88s 11s/step - loss: 0.1245 - accuracy: 0.9499 - val_loss: 1.1197 - val_accuracy: 0.8242\n",
            "Epoch 18/100\n",
            "8/8 [==============================] - 86s 11s/step - loss: 0.0800 - accuracy: 0.9700 - val_loss: 1.0065 - val_accuracy: 0.8398\n",
            "Epoch 19/100\n",
            "8/8 [==============================] - 86s 11s/step - loss: 0.0818 - accuracy: 0.9700 - val_loss: 1.3889 - val_accuracy: 0.8164\n",
            "Epoch 20/100\n",
            "8/8 [==============================] - 86s 12s/step - loss: 0.1016 - accuracy: 0.9611 - val_loss: 1.1315 - val_accuracy: 0.8281\n",
            "Epoch 21/100\n",
            "8/8 [==============================] - 97s 12s/step - loss: 0.0620 - accuracy: 0.9795 - val_loss: 1.4254 - val_accuracy: 0.8086\n",
            "Epoch 22/100\n",
            "8/8 [==============================] - 92s 11s/step - loss: 0.1292 - accuracy: 0.9488 - val_loss: 1.0299 - val_accuracy: 0.8320\n",
            "Epoch 23/100\n",
            "8/8 [==============================] - 95s 12s/step - loss: 0.0566 - accuracy: 0.9824 - val_loss: 1.0933 - val_accuracy: 0.8359\n",
            "Epoch 24/100\n",
            "8/8 [==============================] - 86s 11s/step - loss: 0.0485 - accuracy: 0.9867 - val_loss: 1.3293 - val_accuracy: 0.8242\n",
            "Epoch 25/100\n",
            "8/8 [==============================] - 87s 12s/step - loss: 0.0533 - accuracy: 0.9811 - val_loss: 1.2712 - val_accuracy: 0.8281\n",
            "Epoch 26/100\n",
            "8/8 [==============================] - 93s 11s/step - loss: 0.0467 - accuracy: 0.9833 - val_loss: 1.5048 - val_accuracy: 0.8203\n",
            "Epoch 27/100\n",
            "8/8 [==============================] - 89s 11s/step - loss: 0.0360 - accuracy: 0.9889 - val_loss: 1.1589 - val_accuracy: 0.8438\n",
            "Epoch 28/100\n",
            "8/8 [==============================] - 90s 11s/step - loss: 0.0526 - accuracy: 0.9789 - val_loss: 1.2756 - val_accuracy: 0.8320\n",
            "Epoch 29/100\n",
            "8/8 [==============================] - 90s 11s/step - loss: 0.0352 - accuracy: 0.9900 - val_loss: 1.6097 - val_accuracy: 0.8203\n",
            "Epoch 30/100\n",
            "8/8 [==============================] - 88s 11s/step - loss: 0.0334 - accuracy: 0.9889 - val_loss: 1.2864 - val_accuracy: 0.8398\n",
            "Epoch 31/100\n",
            "8/8 [==============================] - 89s 11s/step - loss: 0.0665 - accuracy: 0.9733 - val_loss: 1.1364 - val_accuracy: 0.8320\n",
            "Epoch 32/100\n",
            "8/8 [==============================] - 87s 11s/step - loss: 0.0313 - accuracy: 0.9878 - val_loss: 1.4612 - val_accuracy: 0.8281\n",
            "Epoch 33/100\n",
            "8/8 [==============================] - 86s 11s/step - loss: 0.0241 - accuracy: 0.9900 - val_loss: 1.2539 - val_accuracy: 0.8438\n",
            "Epoch 34/100\n",
            "8/8 [==============================] - 86s 12s/step - loss: 0.0234 - accuracy: 0.9911 - val_loss: 1.1850 - val_accuracy: 0.8594\n",
            "Epoch 35/100\n",
            "8/8 [==============================] - 88s 11s/step - loss: 0.0425 - accuracy: 0.9833 - val_loss: 1.2513 - val_accuracy: 0.8398\n",
            "Epoch 36/100\n",
            "8/8 [==============================] - 96s 12s/step - loss: 0.0182 - accuracy: 0.9941 - val_loss: 1.4581 - val_accuracy: 0.8398\n",
            "Epoch 37/100\n",
            "8/8 [==============================] - 86s 11s/step - loss: 0.0160 - accuracy: 0.9944 - val_loss: 1.4212 - val_accuracy: 0.8398\n",
            "Epoch 38/100\n",
            "8/8 [==============================] - 86s 11s/step - loss: 0.0159 - accuracy: 0.9978 - val_loss: 1.6239 - val_accuracy: 0.8281\n",
            "Epoch 39/100\n",
            "8/8 [==============================] - 86s 12s/step - loss: 0.0201 - accuracy: 0.9900 - val_loss: 1.3361 - val_accuracy: 0.8438\n",
            "Epoch 40/100\n",
            "8/8 [==============================] - 87s 11s/step - loss: 0.0295 - accuracy: 0.9878 - val_loss: 1.1124 - val_accuracy: 0.8516\n",
            "Epoch 41/100\n",
            "8/8 [==============================] - 88s 11s/step - loss: 0.0112 - accuracy: 0.9989 - val_loss: 1.5369 - val_accuracy: 0.8398\n",
            "Epoch 42/100\n",
            "8/8 [==============================] - 89s 11s/step - loss: 0.0088 - accuracy: 1.0000 - val_loss: 1.4932 - val_accuracy: 0.8438\n",
            "Epoch 43/100\n",
            "8/8 [==============================] - 87s 11s/step - loss: 0.0104 - accuracy: 0.9989 - val_loss: 1.8269 - val_accuracy: 0.8320\n",
            "Epoch 44/100\n",
            "8/8 [==============================] - 86s 12s/step - loss: 0.0096 - accuracy: 1.0000 - val_loss: 1.8516 - val_accuracy: 0.8320\n",
            "Epoch 45/100\n",
            "8/8 [==============================] - 89s 11s/step - loss: 0.0067 - accuracy: 0.9989 - val_loss: 2.0614 - val_accuracy: 0.8320\n",
            "Epoch 46/100\n",
            "8/8 [==============================] - 88s 11s/step - loss: 0.0320 - accuracy: 0.9867 - val_loss: 1.4639 - val_accuracy: 0.8398\n",
            "Epoch 47/100\n",
            "8/8 [==============================] - 87s 11s/step - loss: 0.0059 - accuracy: 1.0000 - val_loss: 1.5761 - val_accuracy: 0.8398\n",
            "Epoch 48/100\n",
            "8/8 [==============================] - 91s 11s/step - loss: 0.0042 - accuracy: 1.0000 - val_loss: 1.6668 - val_accuracy: 0.8398\n",
            "Epoch 49/100\n",
            "8/8 [==============================] - 86s 11s/step - loss: 0.0038 - accuracy: 1.0000 - val_loss: 1.7540 - val_accuracy: 0.8398\n",
            "Epoch 50/100\n",
            "8/8 [==============================] - 86s 11s/step - loss: 0.0029 - accuracy: 1.0000 - val_loss: 1.8677 - val_accuracy: 0.8359\n",
            "Epoch 51/100\n",
            "8/8 [==============================] - 86s 11s/step - loss: 0.0033 - accuracy: 1.0000 - val_loss: 1.8647 - val_accuracy: 0.8438\n",
            "Epoch 52/100\n",
            "8/8 [==============================] - 86s 11s/step - loss: 0.0330 - accuracy: 0.9855 - val_loss: 1.5443 - val_accuracy: 0.8477\n",
            "Epoch 53/100\n",
            "8/8 [==============================] - 87s 11s/step - loss: 0.0022 - accuracy: 1.0000 - val_loss: 1.9439 - val_accuracy: 0.8320\n",
            "Epoch 54/100\n",
            "8/8 [==============================] - 89s 11s/step - loss: 0.0015 - accuracy: 1.0000 - val_loss: 2.0490 - val_accuracy: 0.8359\n",
            "Epoch 55/100\n",
            "8/8 [==============================] - 90s 11s/step - loss: 0.0015 - accuracy: 1.0000 - val_loss: 2.0693 - val_accuracy: 0.8359\n",
            "Epoch 56/100\n",
            "8/8 [==============================] - 86s 11s/step - loss: 0.0054 - accuracy: 1.0000 - val_loss: 1.6973 - val_accuracy: 0.8398\n",
            "Epoch 57/100\n",
            "8/8 [==============================] - 91s 11s/step - loss: 0.0016 - accuracy: 1.0000 - val_loss: 2.0369 - val_accuracy: 0.8359\n",
            "Epoch 58/100\n",
            "8/8 [==============================] - 89s 11s/step - loss: 0.0012 - accuracy: 1.0000 - val_loss: 2.1308 - val_accuracy: 0.8359\n",
            "Epoch 59/100\n",
            "8/8 [==============================] - 98s 12s/step - loss: 0.0010 - accuracy: 1.0000 - val_loss: 2.2957 - val_accuracy: 0.8242\n",
            "Epoch 60/100\n",
            "8/8 [==============================] - 88s 11s/step - loss: 0.0260 - accuracy: 0.9900 - val_loss: 2.0132 - val_accuracy: 0.8320\n",
            "Epoch 61/100\n",
            "8/8 [==============================] - 86s 11s/step - loss: 0.0013 - accuracy: 1.0000 - val_loss: 2.1224 - val_accuracy: 0.8320\n",
            "Epoch 62/100\n",
            "8/8 [==============================] - 86s 11s/step - loss: 9.2967e-04 - accuracy: 1.0000 - val_loss: 2.2012 - val_accuracy: 0.8320\n",
            "Epoch 63/100\n",
            "8/8 [==============================] - 88s 11s/step - loss: 7.8507e-04 - accuracy: 1.0000 - val_loss: 2.2878 - val_accuracy: 0.8320\n",
            "Epoch 64/100\n",
            "8/8 [==============================] - 86s 12s/step - loss: 6.8132e-04 - accuracy: 1.0000 - val_loss: 2.3237 - val_accuracy: 0.8320\n",
            "Epoch 65/100\n",
            "8/8 [==============================] - 96s 12s/step - loss: 5.3401e-04 - accuracy: 1.0000 - val_loss: 2.3414 - val_accuracy: 0.8320\n",
            "Epoch 66/100\n",
            "8/8 [==============================] - 86s 11s/step - loss: 0.0075 - accuracy: 0.9978 - val_loss: 0.8196 - val_accuracy: 0.8984\n",
            "Epoch 67/100\n",
            "8/8 [==============================] - 88s 11s/step - loss: 0.0123 - accuracy: 0.9978 - val_loss: 2.0761 - val_accuracy: 0.8359\n",
            "Epoch 68/100\n",
            "8/8 [==============================] - 87s 11s/step - loss: 7.7545e-04 - accuracy: 1.0000 - val_loss: 2.1032 - val_accuracy: 0.8359\n",
            "Epoch 69/100\n",
            "8/8 [==============================] - 87s 11s/step - loss: 5.7676e-04 - accuracy: 1.0000 - val_loss: 2.2391 - val_accuracy: 0.8359\n",
            "Epoch 70/100\n",
            "8/8 [==============================] - 87s 11s/step - loss: 4.5148e-04 - accuracy: 1.0000 - val_loss: 2.3164 - val_accuracy: 0.8359\n",
            "Epoch 71/100\n",
            "8/8 [==============================] - 87s 11s/step - loss: 3.8169e-04 - accuracy: 1.0000 - val_loss: 2.3958 - val_accuracy: 0.8359\n",
            "Epoch 72/100\n",
            "8/8 [==============================] - 87s 12s/step - loss: 2.7995e-04 - accuracy: 1.0000 - val_loss: 2.4947 - val_accuracy: 0.8359\n",
            "Epoch 73/100\n",
            "8/8 [==============================] - 89s 11s/step - loss: 0.1622 - accuracy: 0.9566 - val_loss: 3.3015 - val_accuracy: 0.7656\n",
            "Epoch 74/100\n",
            "8/8 [==============================] - 94s 11s/step - loss: 0.0059 - accuracy: 0.9978 - val_loss: 2.7095 - val_accuracy: 0.8086\n",
            "Epoch 75/100\n",
            "8/8 [==============================] - 88s 11s/step - loss: 0.0016 - accuracy: 1.0000 - val_loss: 2.5231 - val_accuracy: 0.8164\n",
            "Epoch 76/100\n",
            "8/8 [==============================] - 87s 11s/step - loss: 5.1806e-04 - accuracy: 1.0000 - val_loss: 2.2508 - val_accuracy: 0.8320\n",
            "Epoch 77/100\n",
            "8/8 [==============================] - 86s 11s/step - loss: 3.9205e-04 - accuracy: 1.0000 - val_loss: 2.2519 - val_accuracy: 0.8320\n",
            "Epoch 78/100\n",
            "8/8 [==============================] - 86s 11s/step - loss: 3.6682e-04 - accuracy: 1.0000 - val_loss: 2.2518 - val_accuracy: 0.8320\n",
            "Epoch 79/100\n",
            "8/8 [==============================] - 86s 11s/step - loss: 3.1166e-04 - accuracy: 1.0000 - val_loss: 2.5537 - val_accuracy: 0.8125\n",
            "Epoch 80/100\n",
            "8/8 [==============================] - 88s 11s/step - loss: 4.3691e-04 - accuracy: 1.0000 - val_loss: 2.3518 - val_accuracy: 0.8320\n",
            "Epoch 81/100\n",
            "8/8 [==============================] - 85s 10s/step - loss: 3.2332e-04 - accuracy: 1.0000 - val_loss: 2.3422 - val_accuracy: 0.8359\n",
            "Epoch 82/100\n",
            "8/8 [==============================] - 86s 11s/step - loss: 2.2369e-04 - accuracy: 1.0000 - val_loss: 2.4483 - val_accuracy: 0.8320\n",
            "Epoch 83/100\n",
            "8/8 [==============================] - 86s 11s/step - loss: 2.3760e-04 - accuracy: 1.0000 - val_loss: 2.3640 - val_accuracy: 0.8359\n",
            "Epoch 84/100\n",
            "8/8 [==============================] - 86s 11s/step - loss: 2.0878e-04 - accuracy: 1.0000 - val_loss: 2.7811 - val_accuracy: 0.8281\n",
            "Epoch 85/100\n",
            "8/8 [==============================] - 86s 12s/step - loss: 1.4661e-04 - accuracy: 1.0000 - val_loss: 2.7752 - val_accuracy: 0.8281\n",
            "Epoch 86/100\n",
            "8/8 [==============================] - 87s 12s/step - loss: 1.1737e-04 - accuracy: 1.0000 - val_loss: 2.9523 - val_accuracy: 0.8203\n",
            "Epoch 87/100\n",
            "8/8 [==============================] - 86s 11s/step - loss: 0.0356 - accuracy: 0.9855 - val_loss: 3.1166 - val_accuracy: 0.7539\n",
            "Epoch 88/100\n",
            "8/8 [==============================] - 86s 11s/step - loss: 0.0061 - accuracy: 0.9978 - val_loss: 2.2917 - val_accuracy: 0.8281\n",
            "Epoch 89/100\n",
            "8/8 [==============================] - 99s 12s/step - loss: 9.2710e-04 - accuracy: 1.0000 - val_loss: 2.2412 - val_accuracy: 0.8320\n",
            "Epoch 90/100\n",
            "8/8 [==============================] - 86s 11s/step - loss: 5.6623e-04 - accuracy: 1.0000 - val_loss: 2.2869 - val_accuracy: 0.8359\n",
            "Epoch 91/100\n",
            "8/8 [==============================] - 86s 11s/step - loss: 3.8096e-04 - accuracy: 1.0000 - val_loss: 2.2742 - val_accuracy: 0.8359\n",
            "Epoch 92/100\n",
            "8/8 [==============================] - 87s 11s/step - loss: 2.5155e-04 - accuracy: 1.0000 - val_loss: 2.3364 - val_accuracy: 0.8359\n",
            "Epoch 93/100\n",
            "8/8 [==============================] - 87s 11s/step - loss: 1.7143e-04 - accuracy: 1.0000 - val_loss: 2.4255 - val_accuracy: 0.8359\n",
            "Epoch 94/100\n",
            "8/8 [==============================] - 85s 10s/step - loss: 1.5630e-04 - accuracy: 1.0000 - val_loss: 2.4860 - val_accuracy: 0.8359\n",
            "Epoch 95/100\n",
            "8/8 [==============================] - 87s 11s/step - loss: 1.0967e-04 - accuracy: 1.0000 - val_loss: 2.4514 - val_accuracy: 0.8438\n",
            "Epoch 96/100\n",
            "8/8 [==============================] - 85s 11s/step - loss: 8.3289e-05 - accuracy: 1.0000 - val_loss: 2.8323 - val_accuracy: 0.8320\n",
            "Epoch 97/100\n",
            "8/8 [==============================] - 85s 10s/step - loss: 6.5348e-05 - accuracy: 1.0000 - val_loss: 2.8483 - val_accuracy: 0.8320\n",
            "Epoch 98/100\n",
            "8/8 [==============================] - 98s 12s/step - loss: 5.6798e-05 - accuracy: 1.0000 - val_loss: 2.8408 - val_accuracy: 0.8320\n",
            "Epoch 99/100\n",
            "8/8 [==============================] - 86s 11s/step - loss: 4.3193e-05 - accuracy: 1.0000 - val_loss: 3.1253 - val_accuracy: 0.8203\n",
            "Epoch 100/100\n",
            "8/8 [==============================] - 96s 12s/step - loss: 4.4233e-05 - accuracy: 1.0000 - val_loss: 2.8520 - val_accuracy: 0.8438\n"
          ]
        }
      ]
    },
    {
      "cell_type": "code",
      "metadata": {
        "colab": {
          "base_uri": "https://localhost:8080/",
          "height": 545
        },
        "id": "A5BPwE_vnt4z",
        "outputId": "bd69f295-c9a8-4f30-8f45-9016dae5b5f8"
      },
      "source": [
        "import matplotlib.pyplot as plt\n",
        "acc = history.history['accuracy']\n",
        "val_acc = history.history['val_accuracy']\n",
        "loss = history.history['loss']\n",
        "val_loss = history.history['val_loss']\n",
        "\n",
        "epochs = range(len(acc))\n",
        "\n",
        "plt.plot(epochs, acc, 'bo', label='Training accuracy')\n",
        "plt.plot(epochs, val_acc, 'b', label='Validation accuracy')\n",
        "plt.title('Training and validation accuracy')\n",
        "\n",
        "plt.figure()\n",
        "\n",
        "plt.plot(epochs, loss, 'bo', label='Training Loss')\n",
        "plt.plot(epochs, val_loss, 'b', label='Validation Loss')\n",
        "plt.title('Training and validation loss')\n",
        "plt.legend()\n",
        "\n",
        "plt.show()"
      ],
      "execution_count": null,
      "outputs": [
        {
          "data": {
            "image/png": "[encoded data removed]",
            "text/plain": [
              "<Figure size 432x288 with 1 Axes>"
            ]
          },
          "metadata": {},
          "output_type": "display_data"
        },
        {
          "data": {
            "image/png": "[encoded data removed]",
            "text/plain": [
              "<Figure size 432x288 with 1 Axes>"
            ]
          },
          "metadata": {},
          "output_type": "display_data"
        }
      ]
    },
    {
      "cell_type": "markdown",
      "metadata": {
        "id": "SMCQhujfnu9O"
      },
      "source": [
        "WITH IMAGE AUGMENTATION"
      ]
    },
    {
      "cell_type": "code",
      "metadata": {
        "colab": {
          "base_uri": "https://localhost:8080/"
        },
        "id": "YfFHK3ufhohP",
        "outputId": "0db83957-dccc-433f-aefe-4be20fdb2a54"
      },
      "source": [
        "from tensorflow.keras.preprocessing.image import ImageDataGenerator\n",
        "\n",
        "# All images will be rescaled by 1./255\n",
        "train_datagen = ImageDataGenerator(\n",
        "      rescale=1./255,\n",
        "      rotation_range=40,\n",
        "      width_shift_range=0.2,\n",
        "      height_shift_range=0.2,\n",
        "      shear_range=0.2,\n",
        "      zoom_range=0.2,\n",
        "      horizontal_flip=True,\n",
        "      fill_mode='nearest')\n",
        "\n",
        "validation_datagen = ImageDataGenerator(rescale=1/255)\n",
        "\n",
        "# Flow training images in batches of 128 using train_datagen generator\n",
        "train_generator = train_datagen.flow_from_directory(\n",
        "        '/tmp/horse-or-human/',  # This is the source directory for training images\n",
        "        target_size=(300, 300),  # All images will be resized to 300x300\n",
        "        batch_size=128,\n",
        "        # Since we use binary_crossentropy loss, we need binary labels\n",
        "        class_mode='binary')\n",
        "\n",
        "# Flow training images in batches of 128 using train_datagen generator\n",
        "validation_generator = validation_datagen.flow_from_directory(\n",
        "        '/tmp/validation-horse-or-human/',  # This is the source directory for training images\n",
        "        target_size=(300, 300),  # All images will be resized to 300x300\n",
        "        batch_size=32,\n",
        "        # Since we use binary_crossentropy loss, we need binary labels\n",
        "        class_mode='binary')"
      ],
      "execution_count": null,
      "outputs": [
        {
          "name": "stdout",
          "output_type": "stream",
          "text": [
            "Found 1027 images belonging to 2 classes.\n",
            "Found 256 images belonging to 2 classes.\n"
          ]
        }
      ]
    },
    {
      "cell_type": "code",
      "metadata": {
        "id": "PM8PzpyTi3GF"
      },
      "source": [
        "import tensorflow as tf\n",
        "model = tf.keras.models.Sequential([\n",
        "    # Note the input shape is the desired size of the image 300x300 with 3 bytes color\n",
        "    # This is the first convolution\n",
        "    # output size of conv = (i/p + 2*p - f-size)/s +1 === i/p - 2\n",
        "    # output size of pooling = i/p /2\n",
        "    # output size of flatten = width * hight * #of filters\n",
        "    tf.keras.layers.Conv2D(16, (3,3), activation='relu', input_shape=(300, 300, 3)),\n",
        "    tf.keras.layers.MaxPooling2D(2, 2),\n",
        "    # The second convolution\n",
        "    tf.keras.layers.Conv2D(32, (3,3), activation='relu'),\n",
        "    tf.keras.layers.Dropout(0.3),\n",
        "    tf.keras.layers.MaxPooling2D(2,2),\n",
        "    # The third convolution\n",
        "    tf.keras.layers.Conv2D(64, (3,3), activation='relu'),\n",
        "    tf.keras.layers.Dropout(0.2),\n",
        "    tf.keras.layers.MaxPooling2D(2,2),\n",
        "    # The fourth convolution\n",
        "    tf.keras.layers.Conv2D(64, (3,3), activation='relu'),\n",
        "    tf.keras.layers.MaxPooling2D(2,2),\n",
        "    # The fifth convolution\n",
        "    tf.keras.layers.Conv2D(64, (3,3), activation='relu'),\n",
        "    tf.keras.layers.MaxPooling2D(2,2),\n",
        "    # Flatten the results to feed into a DNN\n",
        "    \n",
        "    tf.keras.layers.Flatten(),\n",
        "    #tf.keras.layers.Dropout(0.5),\n",
        "    # 512 neuron hidden layer\n",
        "    tf.keras.layers.Dense(512, activation='relu'),\n",
        "    # Only 1 output neuron. It will contain a value from 0-1 where 0 for 1 class ('horses') and 1 for the other ('humans')\n",
        "    tf.keras.layers.Dense(1, activation='sigmoid')\n",
        "])"
      ],
      "execution_count": null,
      "outputs": []
    },
    {
      "cell_type": "code",
      "metadata": {
        "colab": {
          "base_uri": "https://localhost:8080/"
        },
        "id": "PM2RtAhUgRuQ",
        "outputId": "de7c87db-6110-4acb-fbcc-ee7c8838deaa"
      },
      "source": [
        "model.summary()"
      ],
      "execution_count": null,
      "outputs": [
        {
          "name": "stdout",
          "output_type": "stream",
          "text": [
            "Model: \"sequential_2\"\n",
            "_________________________________________________________________\n",
            "Layer (type)                 Output Shape              Param #   \n",
            "=================================================================\n",
            "conv2d_10 (Conv2D)           (None, 298, 298, 16)      448       \n",
            "_________________________________________________________________\n",
            "max_pooling2d_10 (MaxPooling (None, 149, 149, 16)      0         \n",
            "_________________________________________________________________\n",
            "conv2d_11 (Conv2D)           (None, 147, 147, 32)      4640      \n",
            "_________________________________________________________________\n",
            "dropout (Dropout)            (None, 147, 147, 32)      0         \n",
            "_________________________________________________________________\n",
            "max_pooling2d_11 (MaxPooling (None, 73, 73, 32)        0         \n",
            "_________________________________________________________________\n",
            "conv2d_12 (Conv2D)           (None, 71, 71, 64)        18496     \n",
            "_________________________________________________________________\n",
            "dropout_1 (Dropout)          (None, 71, 71, 64)        0         \n",
            "_________________________________________________________________\n",
            "max_pooling2d_12 (MaxPooling (None, 35, 35, 64)        0         \n",
            "_________________________________________________________________\n",
            "conv2d_13 (Conv2D)           (None, 33, 33, 64)        36928     \n",
            "_________________________________________________________________\n",
            "max_pooling2d_13 (MaxPooling (None, 16, 16, 64)        0         \n",
            "_________________________________________________________________\n",
            "conv2d_14 (Conv2D)           (None, 14, 14, 64)        36928     \n",
            "_________________________________________________________________\n",
            "max_pooling2d_14 (MaxPooling (None, 7, 7, 64)          0         \n",
            "_________________________________________________________________\n",
            "flatten_2 (Flatten)          (None, 3136)              0         \n",
            "_________________________________________________________________\n",
            "dropout_2 (Dropout)          (None, 3136)              0         \n",
            "_________________________________________________________________\n",
            "dense_4 (Dense)              (None, 512)               1606144   \n",
            "_________________________________________________________________\n",
            "dense_5 (Dense)              (None, 1)                 513       \n",
            "=================================================================\n",
            "Total params: 1,704,097\n",
            "Trainable params: 1,704,097\n",
            "Non-trainable params: 0\n",
            "_________________________________________________________________\n"
          ]
        }
      ]
    },
    {
      "cell_type": "code",
      "metadata": {
        "colab": {
          "base_uri": "https://localhost:8080/"
        },
        "id": "amRWM63bjDfw",
        "outputId": "bddac642-517a-4b1d-a63d-3e0be1eb8ddb"
      },
      "source": [
        "from tensorflow.keras.optimizers import RMSprop\n",
        "\n",
        "model.compile(loss='binary_crossentropy',\n",
        "              optimizer=RMSprop(lr=1e-4),\n",
        "              metrics=['accuracy'])"
      ],
      "execution_count": null,
      "outputs": [
        {
          "name": "stderr",
          "output_type": "stream",
          "text": [
            "/usr/local/lib/python3.7/dist-packages/keras/optimizer_v2/optimizer_v2.py:356: UserWarning: The `lr` argument is deprecated, use `learning_rate` instead.\n",
            "  \"The `lr` argument is deprecated, use `learning_rate` instead.\")\n"
          ]
        }
      ]
    },
    {
      "cell_type": "code",
      "metadata": {
        "colab": {
          "base_uri": "https://localhost:8080/"
        },
        "id": "XeMGO_jHjQow",
        "outputId": "12bb4065-6196-4a3b-8cf7-9ed622fa7849"
      },
      "source": [
        "history = model.fit(\n",
        "      train_generator,\n",
        "      steps_per_epoch=8,  \n",
        "      epochs=10,\n",
        "      verbose=1,\n",
        "      validation_data = validation_generator,\n",
        "      validation_steps=8)"
      ],
      "execution_count": null,
      "outputs": [
        {
          "name": "stdout",
          "output_type": "stream",
          "text": [
            "Epoch 1/10\n",
            "8/8 [==============================] - 26s 3s/step - loss: 0.6935 - accuracy: 0.5161 - val_loss: 0.7142 - val_accuracy: 0.5000\n",
            "Epoch 2/10\n",
            "8/8 [==============================] - 25s 3s/step - loss: 0.6683 - accuracy: 0.5840 - val_loss: 0.6654 - val_accuracy: 0.9297\n",
            "Epoch 3/10\n",
            "8/8 [==============================] - 27s 3s/step - loss: 0.6419 - accuracy: 0.6416 - val_loss: 0.7071 - val_accuracy: 0.5000\n",
            "Epoch 4/10\n",
            "8/8 [==============================] - 24s 3s/step - loss: 0.6159 - accuracy: 0.6819 - val_loss: 0.6772 - val_accuracy: 0.5000\n",
            "Epoch 5/10\n",
            "8/8 [==============================] - 24s 3s/step - loss: 0.6203 - accuracy: 0.6596 - val_loss: 0.6482 - val_accuracy: 0.5273\n",
            "Epoch 6/10\n",
            "8/8 [==============================] - 24s 3s/step - loss: 0.5906 - accuracy: 0.6908 - val_loss: 0.6257 - val_accuracy: 0.5625\n",
            "Epoch 7/10\n",
            "8/8 [==============================] - 24s 3s/step - loss: 0.5945 - accuracy: 0.6974 - val_loss: 0.6302 - val_accuracy: 0.5508\n",
            "Epoch 8/10\n",
            "8/8 [==============================] - 24s 3s/step - loss: 0.5411 - accuracy: 0.7353 - val_loss: 0.6494 - val_accuracy: 0.5352\n",
            "Epoch 9/10\n",
            "8/8 [==============================] - 24s 3s/step - loss: 0.5554 - accuracy: 0.7164 - val_loss: 0.6277 - val_accuracy: 0.5508\n",
            "Epoch 10/10\n",
            "8/8 [==============================] - 24s 3s/step - loss: 0.5222 - accuracy: 0.7419 - val_loss: 0.5856 - val_accuracy: 0.6172\n"
          ]
        }
      ]
    },
    {
      "cell_type": "code",
      "metadata": {
        "colab": {
          "base_uri": "https://localhost:8080/",
          "height": 545
        },
        "id": "WrgYtSg-jfCB",
        "outputId": "fa27598a-0fcb-4d69-8e0f-e1b036acac50"
      },
      "source": [
        "import matplotlib.pyplot as plt\n",
        "acc = history.history['accuracy']\n",
        "val_acc = history.history['val_accuracy']\n",
        "loss = history.history['loss']\n",
        "val_loss = history.history['val_loss']\n",
        "\n",
        "epochs = range(len(acc))\n",
        "\n",
        "plt.plot(epochs, acc, 'bo', label='Training accuracy')\n",
        "plt.plot(epochs, val_acc, 'b', label='Validation accuracy')\n",
        "plt.title('Training and validation accuracy')\n",
        "\n",
        "plt.figure()\n",
        "\n",
        "plt.plot(epochs, loss, 'bo', label='Training Loss')\n",
        "plt.plot(epochs, val_loss, 'b', label='Validation Loss')\n",
        "plt.title('Training and validation loss')\n",
        "plt.legend()\n",
        "\n",
        "plt.show()"
      ],
      "execution_count": null,
      "outputs": [
        {
          "data": {
            "image/png": "[encoded data removed]",
            "text/plain": [
              "<Figure size 432x288 with 1 Axes>"
            ]
          },
          "metadata": {},
          "output_type": "display_data"
        },
        {
          "data": {
            "image/png": "[encoded data removed]",
            "text/plain": [
              "<Figure size 432x288 with 1 Axes>"
            ]
          },
          "metadata": {},
          "output_type": "display_data"
        }
      ]
    },
    {
      "cell_type": "code",
      "metadata": {
        "id": "TOGaG0Y4MNX6"
      },
      "source": [
        "import numpy as np\n",
        "import random\n",
        "from tensorflow.keras.preprocessing.image import img_to_array, load_img\n",
        "\n",
        "# Let's define a new Model that will take an image as input, and will output\n",
        "# intermediate representations for all layers in the previous model after\n",
        "# the first.\n",
        "successive_outputs = [layer.output for layer in model.layers[1:]]\n",
        "#visualization_model = Model(img_input, successive_outputs)\n",
        "visualization_model = tf.keras.models.Model(inputs = model.input, outputs = successive_outputs)\n",
        "# Let's prepare a random input image from the training set.\n",
        "horse_img_files = [os.path.join(train_horse_dir, f) for f in train_horse_names]\n",
        "human_img_files = [os.path.join(train_human_dir, f) for f in train_human_names]\n",
        "img_path = random.choice(horse_img_files + human_img_files)\n",
        "\n",
        "img = load_img(img_path, target_size=(300, 300))  # this is a PIL image\n",
        "x = img_to_array(img)  # Numpy array with shape (150, 150, 3)\n",
        "x = x.reshape((1,) + x.shape)  # Numpy array with shape (1, 150, 150, 3)\n",
        "\n",
        "# Rescale by 1/255\n",
        "x /= 255\n",
        "\n",
        "# Let's run our image through our network, thus obtaining all\n",
        "# intermediate representations for this image.\n",
        "successive_feature_maps = visualization_model.predict(x)\n",
        "\n",
        "# These are the names of the layers, so can have them as part of our plot\n",
        "layer_names = [layer.name for layer in model.layers]\n",
        "\n",
        "# Now let's display our representations\n",
        "for layer_name, feature_map in zip(layer_names, successive_feature_maps):\n",
        "  if len(feature_map.shape) == 4:\n",
        "    # Just do this for the conv / maxpool layers, not the fully-connected layers\n",
        "    n_features = feature_map.shape[-1]  # number of features in feature map\n",
        "    # The feature map has shape (1, size, size, n_features)\n",
        "    size = feature_map.shape[1]\n",
        "    # We will tile our images in this matrix\n",
        "    display_grid = np.zeros((size, size * n_features))\n",
        "    for i in range(n_features):\n",
        "      # Postprocess the feature to make it visually palatable\n",
        "      x = feature_map[0, :, :, i]\n",
        "      x -= x.mean()\n",
        "      x /= x.std()\n",
        "      x *= 64\n",
        "      x += 128\n",
        "      x = np.clip(x, 0, 255).astype('uint8')\n",
        "      # We'll tile each filter into this big horizontal grid\n",
        "      display_grid[:, i * size : (i + 1) * size] = x\n",
        "    # Display the grid\n",
        "    scale = 20. / n_features\n",
        "    plt.figure(figsize=(scale * n_features, scale))\n",
        "    plt.title(layer_name)\n",
        "    plt.grid(False)\n",
        "    plt.imshow(display_grid, aspect='auto', cmap='viridis')"
      ],
      "execution_count": null,
      "outputs": []
    },
    {
      "cell_type": "markdown",
      "metadata": {
        "id": "vb2KGth6n98k"
      },
      "source": [
        "Dropout\n",
        "![images.png](data:image/png;base64,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)"
      ]
    },
    {
      "cell_type": "code",
      "metadata": {
        "id": "nKiOAr-7n_8O"
      },
      "source": [],
      "execution_count": null,
      "outputs": []
    }
  ]
}